{
 "cells": [
  {
   "cell_type": "markdown",
   "metadata": {},
   "source": [
    "# Concurseiro - uma análise simples de resultados preliminares de prova e algumas considerações pessoais\n",
    "\n",
    "Não se preocupe com os códigos que você verá por aqui, eles são parte do trabalho para alcançar resultados, no entanto basta ler o texto e analisar tabelas e gráficos. Tudo é explicado conforme o resultado que os códigos apresentam.\n",
    "\n",
    "<hr>\n",
    "\n",
    "\n",
    "No dia 29/10/2023, domingo chuvoso, foi realizada uma prova para o cargo de técnico administrativo conforme o <a href='http://www.prh.uem.br/res/concurso-publico/tecnico-administrativo-edital-no-151-2023-prh-2013-concurso-publico-agente-universitario-de-nivel-medio/edital-151-2023-prh.pdf/view'>Edital Nº 151/2023-PRH</a>. A prova ocorreu na saudosa Universidade Estadual de Maringá e digo saudosa, pois foi ali que tive meu grau de Bacharelado em Música concedido há alguns anos atrás e foi uma época boa, ah!\n",
    "\n",
    "Eu sinceramente achei que fosse me dar bem nessa prova e esse foi um dos fatores que me deixou extremamente nervoso, considerando que já bati na trave ao realizar outros concursos, mas esse realmente tinha matérias com as quais eu estava familiarizado. Eu mencionei o dia chuvoso, não que isso seja relevante para o trabalho que você vai ver a seguir, mas porque gostaria de ressaltar que esse aspecto piorou meu nervosismo devido ao trânsito que tive que enfrentar (nesse dia minha esposa dirigiu), mesmo que tivéssemos tempo hábil para chegar.... bem, não preciso dizer muito mais, se você é concurseiro ou se já passou por provas que poderiam decidir algo muito importante para você, mesmo na escola, então vai me compreender.\n",
    "\n",
    "Eu fiz a prova, e português foi \"uma coisa\" sabe? Eu sempre me saio bem em português, mas eu soube dessa vez que não seria minha matéria. No entanto eu tinha certeza que havia gabaritado o restante, exceto por matemática, que é meu ponto mais fraco (e deve ser o de muita gente como veremos nas análises que fiz aqui).\n",
    "\n",
    "O resultado preliminar de divulgação da nota da prova objetiva - após o período recursal, em que os candidatos, se pudessem, dariam \"braçadas\" na cara da banca examinadora a fim de que ela alterasse o gabarito de uma questão - foi divulgado em 22/11/2023 no <a href='http://www.prh.uem.br/res/concurso-publico/tecnico-administrativo-edital-no-151-2023-prh-2013-concurso-publico-agente-universitario-de-nivel-medio/edital-351-2023-prh-resultado-final.pdf/view'>Edital nº 351/2023-PRH - Resultado da Prova Objetiva</a>. Com esse resultado em mãos, eu pensei:\n",
    "\n",
    "\"Bem, já que estou aprendendo análise de dados, vou praticar algumas ferramentas, pedir ajuda do chatGPT e fazer uma análise simples da posição preliminar em que cada candidato possivelmente estará a partir dos dados obtidos no edital com resultado preliminar, quem sabe comparo uma coisa ou outra mais?\" E assim nasce esse trabalho. \n",
    "\n",
    "Não vou dizer que compreendo todas as linhas de código presentes aqui, exatamente, no momento da entrega do projeto; pois meu foco estava na análise, no contar uma históra que eu já tinha em mente, mas posso dizer tenho ferramentas suficientes para poder estudar e compreender o que há aqui, pois tudo o que é apresentado vem de um escopo em que já estudei as noções básicas e sei como buscar, então esse projeto me serve como ferramenta de estudo, posso fazer a engenharia reversa de pontos que não domino e aprender com o que eu mesmo realizei. \n",
    "\n",
    "O que mais me ajudou na concretização disso, foram os cursos (que realizei por meio do \"financial aid application\") no site <a href='https://www.coursera.org/professional-certificates/applied-artifical-intelligence-ibm-watson-ai'>COURSERA - IBM Applied AI Professional Certificate</a>(dentre os cursos nessa trilha, já pude obter 4 certificados de aprendizagem), bem como os cursos gratuitos de engenharia de prompt da udemy (para lidar com o chatGPT) e no youtube, esses cursos ensinam a extrair o melhor da ferramenta de processamento de linguagem natural que é o \"GPT\".\n",
    "\n",
    "Não posso afirmar que estou correto em tudo o que fiz aqui, isso é uma tentativa e uma realização para demonstrar o que eu poderia analisar num primeiro momento, é meu jeito de contar uma história sobre o desemprenho preliminar dos candidatos e peço perdão por eventuais inconsistências, bem como conto com a ajuda de quem sabe mais que eu para poder melhorar minhas técnicas. \n",
    "\n",
    "Sobre os dados, é claro que durante o caminho nesse projeto eu pensava: \"poxa! se eu tivesse acesso a cada alternativa que cada candidato respondeu em cada questão, poderia identificar pontos fracos e fortes mais específicos\". Imagine então se pudéssemos saber o que cada candidato come no café da manhã, quem prepara as refeições dele, se trabalha, se somente estuda; quanta coisa poderíamos extrair. Mas tudo bem, deixo esse trabalho para quem buscou ou \"fez\" esses dados (se existirem) e com certeza saberá lidar com eles melhor do que eu, um mero aspirante a analista de dados.\n",
    "\n",
    "Dadas essas considerações eu gostaria realmente de dizer que escrevi essa introdução por último no projeto. Eu sabia exatamente o que ia fazer antes de iniciar tudo aqui, mas eu não sabia a cara com que iria ficar exatamente, no entanto o final foi o que esperei. \n",
    "\n",
    "Obrigado por embarcar nessa trilha comigo!"
   ]
  },
  {
   "cell_type": "code",
   "execution_count": 1,
   "metadata": {},
   "outputs": [
    {
     "name": "stdout",
     "output_type": "stream",
     "text": [
      "Requirement already satisfied: nbformat in c:\\users\\eflov\\appdata\\local\\packages\\pythonsoftwarefoundation.python.3.11_qbz5n2kfra8p0\\localcache\\local-packages\\python311\\site-packages (5.9.2)\n",
      "Requirement already satisfied: fastjsonschema in c:\\users\\eflov\\appdata\\local\\packages\\pythonsoftwarefoundation.python.3.11_qbz5n2kfra8p0\\localcache\\local-packages\\python311\\site-packages (from nbformat) (2.19.0)\n",
      "Requirement already satisfied: jsonschema>=2.6 in c:\\users\\eflov\\appdata\\local\\packages\\pythonsoftwarefoundation.python.3.11_qbz5n2kfra8p0\\localcache\\local-packages\\python311\\site-packages (from nbformat) (4.20.0)\n",
      "Requirement already satisfied: jupyter-core in c:\\users\\eflov\\appdata\\local\\packages\\pythonsoftwarefoundation.python.3.11_qbz5n2kfra8p0\\localcache\\local-packages\\python311\\site-packages (from nbformat) (5.4.0)\n",
      "Requirement already satisfied: traitlets>=5.1 in c:\\users\\eflov\\appdata\\local\\packages\\pythonsoftwarefoundation.python.3.11_qbz5n2kfra8p0\\localcache\\local-packages\\python311\\site-packages (from nbformat) (5.11.2)\n",
      "Requirement already satisfied: attrs>=22.2.0 in c:\\users\\eflov\\appdata\\local\\packages\\pythonsoftwarefoundation.python.3.11_qbz5n2kfra8p0\\localcache\\local-packages\\python311\\site-packages (from jsonschema>=2.6->nbformat) (23.1.0)\n",
      "Requirement already satisfied: jsonschema-specifications>=2023.03.6 in c:\\users\\eflov\\appdata\\local\\packages\\pythonsoftwarefoundation.python.3.11_qbz5n2kfra8p0\\localcache\\local-packages\\python311\\site-packages (from jsonschema>=2.6->nbformat) (2023.11.1)\n",
      "Requirement already satisfied: referencing>=0.28.4 in c:\\users\\eflov\\appdata\\local\\packages\\pythonsoftwarefoundation.python.3.11_qbz5n2kfra8p0\\localcache\\local-packages\\python311\\site-packages (from jsonschema>=2.6->nbformat) (0.31.0)\n",
      "Requirement already satisfied: rpds-py>=0.7.1 in c:\\users\\eflov\\appdata\\local\\packages\\pythonsoftwarefoundation.python.3.11_qbz5n2kfra8p0\\localcache\\local-packages\\python311\\site-packages (from jsonschema>=2.6->nbformat) (0.13.0)\n",
      "Requirement already satisfied: platformdirs>=2.5 in c:\\users\\eflov\\appdata\\local\\packages\\pythonsoftwarefoundation.python.3.11_qbz5n2kfra8p0\\localcache\\local-packages\\python311\\site-packages (from jupyter-core->nbformat) (3.11.0)\n",
      "Requirement already satisfied: pywin32>=300 in c:\\users\\eflov\\appdata\\local\\packages\\pythonsoftwarefoundation.python.3.11_qbz5n2kfra8p0\\localcache\\local-packages\\python311\\site-packages (from jupyter-core->nbformat) (306)\n",
      "Note: you may need to restart the kernel to use updated packages.\n"
     ]
    },
    {
     "name": "stderr",
     "output_type": "stream",
     "text": [
      "\n",
      "[notice] A new release of pip is available: 23.2.1 -> 23.3.1\n",
      "[notice] To update, run: C:\\Users\\eflov\\AppData\\Local\\Microsoft\\WindowsApps\\PythonSoftwareFoundation.Python.3.11_qbz5n2kfra8p0\\python.exe -m pip install --upgrade pip\n"
     ]
    }
   ],
   "source": [
    "import pandas as pd\n",
    "import matplotlib.pyplot as plt\n",
    "import plotly.express as px\n",
    "%pip install nbformat --upgrade\n"
   ]
  },
  {
   "cell_type": "markdown",
   "metadata": {},
   "source": [
    "# Programa de prova \n",
    "<a href='http://www.prh.uem.br/res/concurso-publico/tecnico-administrativo-edital-no-151-2023-prh-2013-concurso-publico-agente-universitario-de-nivel-medio/edital-151-2023-prh.pdf/view'>ANEXO I DO EDITAL Nº151/2023-PRH</a>\n",
    "\n",
    "**LÍNGUA PORTUGUESA**\n",
    "1. Compreensão e interpretação de textos. \n",
    "2. Significação das palavras (sinonímia, \n",
    "antonímia, homonímia, paronímia). \n",
    "3. Termos essenciais da oração (sujeito, \n",
    "predicado). \n",
    "4. Termos integrantes da oração (complementos verbais [objeto direto e \n",
    "objeto indireto]; complementos nominais). \n",
    "5. Termos acessórios da oração (adjunto \n",
    "adnominal, adjunto adverbial, aposto, vocativo). \n",
    "6. Concordância verbal e nominal. \n",
    "7. Regência verbal e nominal. \n",
    "8. Crase. \n",
    "9. Pontuação. \n",
    "10. Colocação pronominal. \n",
    "11. Acentuação. \n",
    "12. Ortografia. \n",
    "13. Uso dos porquês.\n",
    "\n",
    "**MATEMÁTICA**\n",
    "1. Razões e proporções. \n",
    "2. Divisão proporcional. \n",
    "3. Regra de três simples. \n",
    "4. Porcentagem.\n",
    "5. Aplicações de regras de inferência lógica.\n",
    "\n",
    "**CONHECIMENTOS DE INFORMÁTICA**\n",
    "1. CONCEITOS BÁSICOS: Hardware e Software; sistemas operacionais; programas \n",
    "aplicativos; redes de computadores; Internet; e-mail; transferência de arquivos; \n",
    "dispositivos móveis, conceitos de segurança da informação. \n",
    "2. NOÇÕES BÁSICAS \n",
    "DE CONFIGURAÇÃO: componentes, periféricos, processadores, dispositivos \n",
    "externos. Conceitos de organização e de gerenciamento de informações, arquivos, \n",
    "pastas e programas. Dispositivos de Armazenamento, Entrada e Saída. \n",
    "3. EDITORES: Conhecimento sobre Processadores de Texto, Planilhas eletrônicas, \n",
    "Editores de Apresentações.\n",
    "\n",
    "**CONHECIMENTOS BÁSICOS DE LEGISLAÇÃO E ESTATUTO DA CRIANÇA E DO ADOLESCENTE**\n",
    "1. Constituição Federal: Título II – Capítulo I – Dos Direitos e Deveres Individuais \n",
    "e Coletivos (art. 5.º e seus incisos); Título III – Capítulo VII – Da Administração \n",
    "Pública (art. 37 a 41). \n",
    "2. Constituição do Estado do Paraná – Título II – Da \n",
    "Administração Pública – Capítulos I e II (arts. 27 a 43). \n",
    "3. Estatuto dos \n",
    "Funcionários Públicos do Estado do Paraná (Lei Estadual n.º 6.174/1970).\n",
    "4. Estatuto da Criança e do Adolescente (Lei n.º 8.069/1990)"
   ]
  },
  {
   "cell_type": "markdown",
   "metadata": {},
   "source": [
    "# Leitura básica dos dados"
   ]
  },
  {
   "cell_type": "markdown",
   "metadata": {},
   "source": [
    "A seguir estou apenas realizando algumas leituras básicas dos dados, sem análises ou insights"
   ]
  },
  {
   "cell_type": "code",
   "execution_count": 2,
   "metadata": {},
   "outputs": [],
   "source": [
    "file = r'D:\\Jeanco\\Meus projetos\\notas_prova_uem\\resultado_final_csv.csv'"
   ]
  },
  {
   "cell_type": "code",
   "execution_count": 3,
   "metadata": {},
   "outputs": [
    {
     "data": {
      "text/html": [
       "<div>\n",
       "<style scoped>\n",
       "    .dataframe tbody tr th:only-of-type {\n",
       "        vertical-align: middle;\n",
       "    }\n",
       "\n",
       "    .dataframe tbody tr th {\n",
       "        vertical-align: top;\n",
       "    }\n",
       "\n",
       "    .dataframe thead th {\n",
       "        text-align: right;\n",
       "    }\n",
       "</style>\n",
       "<table border=\"1\" class=\"dataframe\">\n",
       "  <thead>\n",
       "    <tr style=\"text-align: right;\">\n",
       "      <th></th>\n",
       "      <th>INSCRIÇÃO</th>\n",
       "      <th>CANDIDATO</th>\n",
       "      <th>L.PORT</th>\n",
       "      <th>MAT</th>\n",
       "      <th>INF O</th>\n",
       "      <th>LEG</th>\n",
       "      <th>EST</th>\n",
       "      <th>NOTA</th>\n",
       "    </tr>\n",
       "  </thead>\n",
       "  <tbody>\n",
       "    <tr>\n",
       "      <th>0</th>\n",
       "      <td>4859</td>\n",
       "      <td>Abgail de Souza</td>\n",
       "      <td>1,50</td>\n",
       "      <td>0,25</td>\n",
       "      <td>1,00</td>\n",
       "      <td>0,25</td>\n",
       "      <td>0,50</td>\n",
       "      <td>3,50</td>\n",
       "    </tr>\n",
       "    <tr>\n",
       "      <th>1</th>\n",
       "      <td>4751</td>\n",
       "      <td>Ábia Morais Silva</td>\n",
       "      <td>1,25</td>\n",
       "      <td>0,00</td>\n",
       "      <td>0,50</td>\n",
       "      <td>0,75</td>\n",
       "      <td>0,50</td>\n",
       "      <td>3,00</td>\n",
       "    </tr>\n",
       "    <tr>\n",
       "      <th>2</th>\n",
       "      <td>12493</td>\n",
       "      <td>Abinair Trindade Miranda Valerio</td>\n",
       "      <td>1,00</td>\n",
       "      <td>0,25</td>\n",
       "      <td>0,25</td>\n",
       "      <td>0,50</td>\n",
       "      <td>0,50</td>\n",
       "      <td>2,50</td>\n",
       "    </tr>\n",
       "    <tr>\n",
       "      <th>3</th>\n",
       "      <td>17346</td>\n",
       "      <td>Abner Fellipe Beliato</td>\n",
       "      <td>1,25</td>\n",
       "      <td>0,00</td>\n",
       "      <td>0,75</td>\n",
       "      <td>0,25</td>\n",
       "      <td>0,50</td>\n",
       "      <td>2,75</td>\n",
       "    </tr>\n",
       "    <tr>\n",
       "      <th>4</th>\n",
       "      <td>13377</td>\n",
       "      <td>Abner Mariano</td>\n",
       "      <td>2,75</td>\n",
       "      <td>1,00</td>\n",
       "      <td>1,00</td>\n",
       "      <td>2,00</td>\n",
       "      <td>0,50</td>\n",
       "      <td>7,25</td>\n",
       "    </tr>\n",
       "    <tr>\n",
       "      <th>...</th>\n",
       "      <td>...</td>\n",
       "      <td>...</td>\n",
       "      <td>...</td>\n",
       "      <td>...</td>\n",
       "      <td>...</td>\n",
       "      <td>...</td>\n",
       "      <td>...</td>\n",
       "      <td>...</td>\n",
       "    </tr>\n",
       "    <tr>\n",
       "      <th>9699</th>\n",
       "      <td>10446</td>\n",
       "      <td>Zildeni Nunes Acacio Cassidori</td>\n",
       "      <td>1,25</td>\n",
       "      <td>0,00</td>\n",
       "      <td>0,00</td>\n",
       "      <td>0,75</td>\n",
       "      <td>0,25</td>\n",
       "      <td>2,25</td>\n",
       "    </tr>\n",
       "    <tr>\n",
       "      <th>9700</th>\n",
       "      <td>19599</td>\n",
       "      <td>Zilma Fernandes dos Santos Soares</td>\n",
       "      <td>1,75</td>\n",
       "      <td>0,25</td>\n",
       "      <td>0,00</td>\n",
       "      <td>1,25</td>\n",
       "      <td>0,50</td>\n",
       "      <td>3,75</td>\n",
       "    </tr>\n",
       "    <tr>\n",
       "      <th>9701</th>\n",
       "      <td>12953</td>\n",
       "      <td>Zingara Facco Rodrigues</td>\n",
       "      <td>1,00</td>\n",
       "      <td>0,25</td>\n",
       "      <td>0,25</td>\n",
       "      <td>0,75</td>\n",
       "      <td>0,50</td>\n",
       "      <td>2,75</td>\n",
       "    </tr>\n",
       "    <tr>\n",
       "      <th>9702</th>\n",
       "      <td>8830</td>\n",
       "      <td>Zuleica Silva Marques de Lima</td>\n",
       "      <td>2,75</td>\n",
       "      <td>0,50</td>\n",
       "      <td>0,75</td>\n",
       "      <td>0,50</td>\n",
       "      <td>0,50</td>\n",
       "      <td>5,00</td>\n",
       "    </tr>\n",
       "    <tr>\n",
       "      <th>9703</th>\n",
       "      <td>4453</td>\n",
       "      <td>Zuleika Shiraishi Kagueyama</td>\n",
       "      <td>1,25</td>\n",
       "      <td>0,50</td>\n",
       "      <td>0,75</td>\n",
       "      <td>1,00</td>\n",
       "      <td>0,50</td>\n",
       "      <td>4,00</td>\n",
       "    </tr>\n",
       "  </tbody>\n",
       "</table>\n",
       "<p>9704 rows × 8 columns</p>\n",
       "</div>"
      ],
      "text/plain": [
       "      INSCRIÇÃO                          CANDIDATO L.PORT   MAT INF O   LEG  \\\n",
       "0          4859                    Abgail de Souza   1,50  0,25  1,00  0,25   \n",
       "1          4751                  Ábia Morais Silva   1,25  0,00  0,50  0,75   \n",
       "2         12493   Abinair Trindade Miranda Valerio   1,00  0,25  0,25  0,50   \n",
       "3         17346              Abner Fellipe Beliato   1,25  0,00  0,75  0,25   \n",
       "4         13377                      Abner Mariano   2,75  1,00  1,00  2,00   \n",
       "...         ...                                ...    ...   ...   ...   ...   \n",
       "9699      10446     Zildeni Nunes Acacio Cassidori   1,25  0,00  0,00  0,75   \n",
       "9700      19599  Zilma Fernandes dos Santos Soares   1,75  0,25  0,00  1,25   \n",
       "9701      12953            Zingara Facco Rodrigues   1,00  0,25  0,25  0,75   \n",
       "9702       8830      Zuleica Silva Marques de Lima   2,75  0,50  0,75  0,50   \n",
       "9703       4453        Zuleika Shiraishi Kagueyama   1,25  0,50  0,75  1,00   \n",
       "\n",
       "       EST  NOTA  \n",
       "0     0,50  3,50  \n",
       "1     0,50  3,00  \n",
       "2     0,50  2,50  \n",
       "3     0,50  2,75  \n",
       "4     0,50  7,25  \n",
       "...    ...   ...  \n",
       "9699  0,25  2,25  \n",
       "9700  0,50  3,75  \n",
       "9701  0,50  2,75  \n",
       "9702  0,50  5,00  \n",
       "9703  0,50  4,00  \n",
       "\n",
       "[9704 rows x 8 columns]"
      ]
     },
     "execution_count": 3,
     "metadata": {},
     "output_type": "execute_result"
    }
   ],
   "source": [
    "# Dados apresentados com todos os nomes de candidatos, matérias, etc\n",
    "df = pd.read_csv(file, skiprows=1)\n",
    "df"
   ]
  },
  {
   "cell_type": "markdown",
   "metadata": {},
   "source": [
    "Abaixo vou realizar operações para renomear as colunas a fim de facilitar a manipulação dos dados"
   ]
  },
  {
   "cell_type": "code",
   "execution_count": 4,
   "metadata": {},
   "outputs": [],
   "source": [
    "# Renomear as colunas\n",
    "df.columns = ['Inscricao', 'Candidato', 'Port', 'MAT', 'INF', 'LEG', 'ECA', 'Nota Final']\n",
    "\n",
    "# Padronizar os nomes para minúsculas e separar por _\n",
    "df.columns = df.columns.str.lower().str.replace(' ', '_')\n",
    "\n",
    "# Exibir as primeiras linhas para verificar as mudanças"
   ]
  },
  {
   "cell_type": "code",
   "execution_count": 5,
   "metadata": {},
   "outputs": [
    {
     "data": {
      "text/html": [
       "<div>\n",
       "<style scoped>\n",
       "    .dataframe tbody tr th:only-of-type {\n",
       "        vertical-align: middle;\n",
       "    }\n",
       "\n",
       "    .dataframe tbody tr th {\n",
       "        vertical-align: top;\n",
       "    }\n",
       "\n",
       "    .dataframe thead th {\n",
       "        text-align: right;\n",
       "    }\n",
       "</style>\n",
       "<table border=\"1\" class=\"dataframe\">\n",
       "  <thead>\n",
       "    <tr style=\"text-align: right;\">\n",
       "      <th></th>\n",
       "      <th>inscricao</th>\n",
       "      <th>candidato</th>\n",
       "      <th>port</th>\n",
       "      <th>mat</th>\n",
       "      <th>inf</th>\n",
       "      <th>leg</th>\n",
       "      <th>eca</th>\n",
       "      <th>nota_final</th>\n",
       "    </tr>\n",
       "  </thead>\n",
       "  <tbody>\n",
       "    <tr>\n",
       "      <th>0</th>\n",
       "      <td>4859</td>\n",
       "      <td>Abgail de Souza</td>\n",
       "      <td>1,50</td>\n",
       "      <td>0,25</td>\n",
       "      <td>1,00</td>\n",
       "      <td>0,25</td>\n",
       "      <td>0,50</td>\n",
       "      <td>3,50</td>\n",
       "    </tr>\n",
       "    <tr>\n",
       "      <th>1</th>\n",
       "      <td>4751</td>\n",
       "      <td>Ábia Morais Silva</td>\n",
       "      <td>1,25</td>\n",
       "      <td>0,00</td>\n",
       "      <td>0,50</td>\n",
       "      <td>0,75</td>\n",
       "      <td>0,50</td>\n",
       "      <td>3,00</td>\n",
       "    </tr>\n",
       "    <tr>\n",
       "      <th>2</th>\n",
       "      <td>12493</td>\n",
       "      <td>Abinair Trindade Miranda Valerio</td>\n",
       "      <td>1,00</td>\n",
       "      <td>0,25</td>\n",
       "      <td>0,25</td>\n",
       "      <td>0,50</td>\n",
       "      <td>0,50</td>\n",
       "      <td>2,50</td>\n",
       "    </tr>\n",
       "    <tr>\n",
       "      <th>3</th>\n",
       "      <td>17346</td>\n",
       "      <td>Abner Fellipe Beliato</td>\n",
       "      <td>1,25</td>\n",
       "      <td>0,00</td>\n",
       "      <td>0,75</td>\n",
       "      <td>0,25</td>\n",
       "      <td>0,50</td>\n",
       "      <td>2,75</td>\n",
       "    </tr>\n",
       "    <tr>\n",
       "      <th>4</th>\n",
       "      <td>13377</td>\n",
       "      <td>Abner Mariano</td>\n",
       "      <td>2,75</td>\n",
       "      <td>1,00</td>\n",
       "      <td>1,00</td>\n",
       "      <td>2,00</td>\n",
       "      <td>0,50</td>\n",
       "      <td>7,25</td>\n",
       "    </tr>\n",
       "    <tr>\n",
       "      <th>...</th>\n",
       "      <td>...</td>\n",
       "      <td>...</td>\n",
       "      <td>...</td>\n",
       "      <td>...</td>\n",
       "      <td>...</td>\n",
       "      <td>...</td>\n",
       "      <td>...</td>\n",
       "      <td>...</td>\n",
       "    </tr>\n",
       "    <tr>\n",
       "      <th>9699</th>\n",
       "      <td>10446</td>\n",
       "      <td>Zildeni Nunes Acacio Cassidori</td>\n",
       "      <td>1,25</td>\n",
       "      <td>0,00</td>\n",
       "      <td>0,00</td>\n",
       "      <td>0,75</td>\n",
       "      <td>0,25</td>\n",
       "      <td>2,25</td>\n",
       "    </tr>\n",
       "    <tr>\n",
       "      <th>9700</th>\n",
       "      <td>19599</td>\n",
       "      <td>Zilma Fernandes dos Santos Soares</td>\n",
       "      <td>1,75</td>\n",
       "      <td>0,25</td>\n",
       "      <td>0,00</td>\n",
       "      <td>1,25</td>\n",
       "      <td>0,50</td>\n",
       "      <td>3,75</td>\n",
       "    </tr>\n",
       "    <tr>\n",
       "      <th>9701</th>\n",
       "      <td>12953</td>\n",
       "      <td>Zingara Facco Rodrigues</td>\n",
       "      <td>1,00</td>\n",
       "      <td>0,25</td>\n",
       "      <td>0,25</td>\n",
       "      <td>0,75</td>\n",
       "      <td>0,50</td>\n",
       "      <td>2,75</td>\n",
       "    </tr>\n",
       "    <tr>\n",
       "      <th>9702</th>\n",
       "      <td>8830</td>\n",
       "      <td>Zuleica Silva Marques de Lima</td>\n",
       "      <td>2,75</td>\n",
       "      <td>0,50</td>\n",
       "      <td>0,75</td>\n",
       "      <td>0,50</td>\n",
       "      <td>0,50</td>\n",
       "      <td>5,00</td>\n",
       "    </tr>\n",
       "    <tr>\n",
       "      <th>9703</th>\n",
       "      <td>4453</td>\n",
       "      <td>Zuleika Shiraishi Kagueyama</td>\n",
       "      <td>1,25</td>\n",
       "      <td>0,50</td>\n",
       "      <td>0,75</td>\n",
       "      <td>1,00</td>\n",
       "      <td>0,50</td>\n",
       "      <td>4,00</td>\n",
       "    </tr>\n",
       "  </tbody>\n",
       "</table>\n",
       "<p>9704 rows × 8 columns</p>\n",
       "</div>"
      ],
      "text/plain": [
       "      inscricao                          candidato  port   mat   inf   leg  \\\n",
       "0          4859                    Abgail de Souza  1,50  0,25  1,00  0,25   \n",
       "1          4751                  Ábia Morais Silva  1,25  0,00  0,50  0,75   \n",
       "2         12493   Abinair Trindade Miranda Valerio  1,00  0,25  0,25  0,50   \n",
       "3         17346              Abner Fellipe Beliato  1,25  0,00  0,75  0,25   \n",
       "4         13377                      Abner Mariano  2,75  1,00  1,00  2,00   \n",
       "...         ...                                ...   ...   ...   ...   ...   \n",
       "9699      10446     Zildeni Nunes Acacio Cassidori  1,25  0,00  0,00  0,75   \n",
       "9700      19599  Zilma Fernandes dos Santos Soares  1,75  0,25  0,00  1,25   \n",
       "9701      12953            Zingara Facco Rodrigues  1,00  0,25  0,25  0,75   \n",
       "9702       8830      Zuleica Silva Marques de Lima  2,75  0,50  0,75  0,50   \n",
       "9703       4453        Zuleika Shiraishi Kagueyama  1,25  0,50  0,75  1,00   \n",
       "\n",
       "       eca nota_final  \n",
       "0     0,50       3,50  \n",
       "1     0,50       3,00  \n",
       "2     0,50       2,50  \n",
       "3     0,50       2,75  \n",
       "4     0,50       7,25  \n",
       "...    ...        ...  \n",
       "9699  0,25       2,25  \n",
       "9700  0,50       3,75  \n",
       "9701  0,50       2,75  \n",
       "9702  0,50       5,00  \n",
       "9703  0,50       4,00  \n",
       "\n",
       "[9704 rows x 8 columns]"
      ]
     },
     "execution_count": 5,
     "metadata": {},
     "output_type": "execute_result"
    }
   ],
   "source": [
    "# Visualizando os dados com colunas renomeadas\n",
    "df"
   ]
  },
  {
   "cell_type": "markdown",
   "metadata": {},
   "source": [
    "Rapidamente e de maneira mais clara, vamos também dar uma olhada em quantas linhas e colunas há nessa tabela."
   ]
  },
  {
   "cell_type": "code",
   "execution_count": 32,
   "metadata": {},
   "outputs": [
    {
     "data": {
      "text/plain": [
       "(9704, 8)"
      ]
     },
     "execution_count": 32,
     "metadata": {},
     "output_type": "execute_result"
    }
   ],
   "source": [
    "# Verificando quantidade de linhas e colunas\n",
    "df.shape"
   ]
  },
  {
   "cell_type": "markdown",
   "metadata": {},
   "source": [
    "O primeiro valor entre parênteses nos mostra a quantidade de linhas e o segundo nos mostra a quantidade de colunas"
   ]
  },
  {
   "cell_type": "markdown",
   "metadata": {},
   "source": [
    "Agora vou verificar os tipos de dados, é uma prática comum na análise de dados. Basicamente preciso saber se estou lidando com números ou textos, mas essa é uma explicação muito simplificada, não se preocupe com essa parte"
   ]
  },
  {
   "cell_type": "code",
   "execution_count": 6,
   "metadata": {},
   "outputs": [
    {
     "data": {
      "text/plain": [
       "inscricao      int64\n",
       "candidato     object\n",
       "port          object\n",
       "mat           object\n",
       "inf           object\n",
       "leg           object\n",
       "eca           object\n",
       "nota_final    object\n",
       "dtype: object"
      ]
     },
     "execution_count": 6,
     "metadata": {},
     "output_type": "execute_result"
    }
   ],
   "source": [
    "# Observando os tipos de dados\n",
    "df.dtypes"
   ]
  },
  {
   "cell_type": "markdown",
   "metadata": {},
   "source": [
    "Os resultados estão acima e não são bem os tipos de dados que eu espero, como eu disse, não se preocupe com essa parte. Vou realizar a conversão dos dados para os formatos que espero que tenham."
   ]
  },
  {
   "cell_type": "code",
   "execution_count": 7,
   "metadata": {},
   "outputs": [],
   "source": [
    "# Transformando os tipos de dados\n",
    "cols_to_convert = ['port', 'mat', 'inf', 'leg', 'eca', 'nota_final']\n",
    "\n",
    "# Função para converter valores para float ou manter inalterado se não for possível\n",
    "def convert_to_float(value):\n",
    "    try:\n",
    "        return float(value.replace(',', '.'))  # Substituir vírgula por ponto para evitar problemas\n",
    "    except (ValueError, AttributeError):  # Lidar com AttributeError ao encontrar valores não string\n",
    "        return value\n",
    "\n",
    "# Aplicar a função apenas nas colunas específicas\n",
    "for column in cols_to_convert:\n",
    "    df[column] = df[column].apply(convert_to_float)\n"
   ]
  },
  {
   "cell_type": "markdown",
   "metadata": {},
   "source": [
    "Vou falar de um jeito que o leigo entenda a etapa a seguir.\n",
    "Está sendo realizada uma verificação rápida para sabermos se em cada coluna existe algum valor nulo, e como podemos ver, temos \"0\"(zero) valores nulos, ou seja, não há qualquer coluna com \"dados faltando\". Deixando mais claro ainda, tome a coluna \"candidato\" como exemplo e veja que há um '0' ali... isso indica que realmente há valores em todas as linhas da coluna \"candidato\" (zero valores faltando, para ser mais redundante ainda)"
   ]
  },
  {
   "cell_type": "code",
   "execution_count": null,
   "metadata": {},
   "outputs": [
    {
     "data": {
      "text/plain": [
       "inscricao     0\n",
       "candidato     0\n",
       "port          0\n",
       "mat           0\n",
       "inf           0\n",
       "leg           0\n",
       "eca           0\n",
       "nota_final    0\n",
       "dtype: int64"
      ]
     },
     "metadata": {},
     "output_type": "display_data"
    }
   ],
   "source": [
    "# Verificando se há algum valor nulo na tabela\n",
    "df.isnull().sum()"
   ]
  },
  {
   "cell_type": "markdown",
   "metadata": {},
   "source": [
    "# Estatísticas básicas"
   ]
  },
  {
   "cell_type": "markdown",
   "metadata": {},
   "source": [
    "Vamos \"escrever\" uma tabela que apresenta os dados estatísticos básicos. Considere que cada coluna representa uma matéria específica da prova e a nota final (soma de todas as notas em cada matéria) na última coluna. Basicamente a primeira coluna onde vemos count, mean, std, etc nos traz algumas infomações das quais quero destacar count, mean, min, max. \n",
    "\n",
    "count - é a contagem de linhas na tabela, podemos dizer então que cada coluna tem essa quantidade de linhas, então podemos concluir que essa é a quantidade de candidatos que fizeram a prova\n",
    "mean - é a média alcançada em todas as colunas. A coluna \"port\", por exemplo, aparece com a média 1.922352, que é o resultado médio de todas as notas para a matéria português\n",
    "min - apresenta o valor minímo para cada coluna. A coluna \"mat\" por exemplo, nos mostra o valor \"0.000000\", o que significa que a nota mínima em matemática foi zero.\n",
    "max - apresenta o valor máximo para cada coluna. A coluna \"mat\", por exemplo, nos mostra o valor \"1,25\", o que significa que a nota máxima em matemática foi \"1.250000\""
   ]
  },
  {
   "cell_type": "code",
   "execution_count": 8,
   "metadata": {},
   "outputs": [
    {
     "data": {
      "text/html": [
       "<div>\n",
       "<style scoped>\n",
       "    .dataframe tbody tr th:only-of-type {\n",
       "        vertical-align: middle;\n",
       "    }\n",
       "\n",
       "    .dataframe tbody tr th {\n",
       "        vertical-align: top;\n",
       "    }\n",
       "\n",
       "    .dataframe thead th {\n",
       "        text-align: right;\n",
       "    }\n",
       "</style>\n",
       "<table border=\"1\" class=\"dataframe\">\n",
       "  <thead>\n",
       "    <tr style=\"text-align: right;\">\n",
       "      <th></th>\n",
       "      <th>port</th>\n",
       "      <th>mat</th>\n",
       "      <th>inf</th>\n",
       "      <th>leg</th>\n",
       "      <th>eca</th>\n",
       "      <th>nota_final</th>\n",
       "    </tr>\n",
       "  </thead>\n",
       "  <tbody>\n",
       "    <tr>\n",
       "      <th>count</th>\n",
       "      <td>9704.000000</td>\n",
       "      <td>9704.000000</td>\n",
       "      <td>9704.000000</td>\n",
       "      <td>9704.000000</td>\n",
       "      <td>9704.000000</td>\n",
       "      <td>9704.000000</td>\n",
       "    </tr>\n",
       "    <tr>\n",
       "      <th>mean</th>\n",
       "      <td>1.922352</td>\n",
       "      <td>0.420213</td>\n",
       "      <td>0.770945</td>\n",
       "      <td>0.954941</td>\n",
       "      <td>0.428329</td>\n",
       "      <td>4.496780</td>\n",
       "    </tr>\n",
       "    <tr>\n",
       "      <th>std</th>\n",
       "      <td>0.748732</td>\n",
       "      <td>0.335230</td>\n",
       "      <td>0.312252</td>\n",
       "      <td>0.444426</td>\n",
       "      <td>0.130710</td>\n",
       "      <td>1.383657</td>\n",
       "    </tr>\n",
       "    <tr>\n",
       "      <th>min</th>\n",
       "      <td>0.250000</td>\n",
       "      <td>0.000000</td>\n",
       "      <td>0.000000</td>\n",
       "      <td>0.000000</td>\n",
       "      <td>0.000000</td>\n",
       "      <td>0.250000</td>\n",
       "    </tr>\n",
       "    <tr>\n",
       "      <th>25%</th>\n",
       "      <td>1.250000</td>\n",
       "      <td>0.250000</td>\n",
       "      <td>0.500000</td>\n",
       "      <td>0.750000</td>\n",
       "      <td>0.250000</td>\n",
       "      <td>3.500000</td>\n",
       "    </tr>\n",
       "    <tr>\n",
       "      <th>50%</th>\n",
       "      <td>1.750000</td>\n",
       "      <td>0.250000</td>\n",
       "      <td>0.750000</td>\n",
       "      <td>1.000000</td>\n",
       "      <td>0.500000</td>\n",
       "      <td>4.500000</td>\n",
       "    </tr>\n",
       "    <tr>\n",
       "      <th>75%</th>\n",
       "      <td>2.500000</td>\n",
       "      <td>0.750000</td>\n",
       "      <td>1.000000</td>\n",
       "      <td>1.250000</td>\n",
       "      <td>0.500000</td>\n",
       "      <td>5.500000</td>\n",
       "    </tr>\n",
       "    <tr>\n",
       "      <th>max</th>\n",
       "      <td>4.500000</td>\n",
       "      <td>1.250000</td>\n",
       "      <td>1.250000</td>\n",
       "      <td>2.000000</td>\n",
       "      <td>0.500000</td>\n",
       "      <td>9.000000</td>\n",
       "    </tr>\n",
       "  </tbody>\n",
       "</table>\n",
       "</div>"
      ],
      "text/plain": [
       "              port          mat          inf          leg          eca  \\\n",
       "count  9704.000000  9704.000000  9704.000000  9704.000000  9704.000000   \n",
       "mean      1.922352     0.420213     0.770945     0.954941     0.428329   \n",
       "std       0.748732     0.335230     0.312252     0.444426     0.130710   \n",
       "min       0.250000     0.000000     0.000000     0.000000     0.000000   \n",
       "25%       1.250000     0.250000     0.500000     0.750000     0.250000   \n",
       "50%       1.750000     0.250000     0.750000     1.000000     0.500000   \n",
       "75%       2.500000     0.750000     1.000000     1.250000     0.500000   \n",
       "max       4.500000     1.250000     1.250000     2.000000     0.500000   \n",
       "\n",
       "        nota_final  \n",
       "count  9704.000000  \n",
       "mean      4.496780  \n",
       "std       1.383657  \n",
       "min       0.250000  \n",
       "25%       3.500000  \n",
       "50%       4.500000  \n",
       "75%       5.500000  \n",
       "max       9.000000  "
      ]
     },
     "execution_count": 8,
     "metadata": {},
     "output_type": "execute_result"
    }
   ],
   "source": [
    "# Tabela para apresentar estatísticas básicas como média, mediana, máximo, mínimo etc\n",
    "df[['port','mat','inf','leg','eca','nota_final']].describe()"
   ]
  },
  {
   "cell_type": "markdown",
   "metadata": {},
   "source": [
    "Dê um tempo para analisar a tabela acima. Veja a coluna \"nota_final\", por exemplo. Para essa coluna temos \"mean\" (média) sendo 4.4, o que é uma nota realmente baixa. Tivemos 9704 candidatos, e a prova tinha um valor total de 10.0. Há muito mais informação possível de ser extraída dessa simples tabela estatística, mas foge da proposta desse projeto."
   ]
  },
  {
   "cell_type": "markdown",
   "metadata": {},
   "source": [
    "O código abaixo possibilita visualizar uma tabela apenas com as notas médias (mean) alcançadas por matéria"
   ]
  },
  {
   "cell_type": "code",
   "execution_count": 9,
   "metadata": {},
   "outputs": [
    {
     "name": "stdout",
     "output_type": "stream",
     "text": [
      "port    1.922352\n",
      "mat     0.420213\n",
      "inf     0.770945\n",
      "leg     0.954941\n",
      "eca     0.428329\n",
      "dtype: float64\n"
     ]
    }
   ],
   "source": [
    "# Média das matérias\n",
    "subjects = ['port', 'mat', 'inf', 'leg', 'eca']\n",
    "means = df[subjects].mean()\n",
    "print(means)"
   ]
  },
  {
   "cell_type": "markdown",
   "metadata": {},
   "source": [
    "Antes de continuar vou criar uma cópia dos dados originais, apenas por segurança caso precise realizar alguma manipulação que possa alterar os dados originais, para casos como esse utilizarei a cópia criada:"
   ]
  },
  {
   "cell_type": "code",
   "execution_count": 10,
   "metadata": {},
   "outputs": [],
   "source": [
    "# Criar uma cópia geral do DataFrame original\n",
    "df_copy = df.copy()"
   ]
  },
  {
   "cell_type": "markdown",
   "metadata": {},
   "source": [
    "Como eu disse, achei a prova de português bastante desafiadora, pessoal. Quando me deparei com aquele texto extenso de 170 linhas, repleto de termos peculiares como \"de chofre\" e \"palejam\", confesso que me senti um pouco fora da minha zona de conforto. O estilo de texto apresentado, mais próximo de um vestibular do que de um concurso, tornou a tarefa ainda mais complexa em minha opinião.\n",
    "\n",
    "Mas agora, ao ter observado as médias, uma constatação interessante: a matéria em que tive mais dificuldade foi, surpreendentemente, aquela que obteve a maior média geral. Língua Portuguesa lidera, mesmo com a complexidade do texto.\n",
    "\n",
    "Vamos, no entanto, analisar um ponto importante: a quantidade de questões. \n",
    "Se considerarmos a distribuição de notas de acordo com o número de questões em cada matéria, observamos que temas relacionados à prova tiveram notas distribuídas da seguinte forma:"
   ]
  },
  {
   "cell_type": "markdown",
   "metadata": {},
   "source": [
    "Considere que os temas relacionados à prova tiveram a nota distribuída da seguinte maneira:\n",
    "\n",
    "\n",
    "| **CONTEÚDO**                       | **QUANTIDADE * VALOR = VALOR TOTAL DAS QUESTÕES** |\n",
    "|------------------------------------|--------------------------------------|\n",
    "| Língua Portuguesa                  | 20 x 0,25 = 5,00                    |\n",
    "| Matemática                         | 05 x 0,25 = 1,25                    |\n",
    "| Conhecimento de Informática        | 05 x 0,25 = 1,25                    |\n",
    "| Conhecimento Básico de Legislação  | 08 x 0,25 = 2,00                    |\n",
    "| Estatuto da Criança e do Adolescente | 02 x 0,25 = 0,50                   |\n",
    "| Total de questões                   | 40 x 0,25 = 10,0                    |\n"
   ]
  },
  {
   "cell_type": "markdown",
   "metadata": {},
   "source": [
    "\n",
    "Aqui temos algo a se considerar, e ao olhar para a quantidade de questões em termos percentuais, o panorama nos revela outros insights:\n",
    "\n",
    "Vamos utilizar valores aproximados para facilitar a visualização.\n",
    "\n",
    "Língua Portuguesa tem 20 questões, cada uma valendo 0.25 pontos, totalizando 5 pontos. A média nessa matéria foi de 1.9 que corresponde a 7,6 questões, portanto, pode ser interpretada como uma média de 38% do total possível de questões.\n",
    "A matéria ECA, por outro lado, tem 2 questões, cada uma valendo 0.25 pontos, totalizando 0.5 pontos. A média para essa matéria foi de aproximadamente 0.4, o que corresponde a 1,68 questões, o que por sua vez, representa 84% do total possível de questões.\n",
    "\n",
    "Agora, quando comparamos diretamente essas porcentagens, fica evidente que a média em ECA é maior do que em Língua Portuguesa? Nãããoooooo, o que fica evidente é que a quantidade de acertos é maior, mas não a média.\n",
    "Essa abordagem percentual leva em conta a escala total possível de acertos em cada matéria e oferece uma compreensão mais intuitiva da performance dos alunos em relação ao número de questões em cada disciplina.\n",
    "\n",
    "Então, voltando \"às médias\", a média de 1.9 em Língua Portuguesa é baixa, considerando exclusivamente o total de pontos possíveis (5,0), mas continua sendo a maior média no conjunto dos dados.\n",
    "\n",
    "Curiosamente - ou não - , errei seis questões nessa disciplina, cometendo equívocos na transferência para o gabarito definitivo e também errei duas de matemática. Mesmo com esse desafio pessoal, a análise sugere que, de certa forma, os alunos estavam mais bem preparados para Língua Portuguesa do que eu inicialmente percebi, mas isso quando considero apenas a maior média dentre todas as matérias.\n",
    "\n",
    "<hr>\n",
    "\n",
    "Agora, vamos falar um pouco mais do \"chute\". A questão do \"chute\" como causa da maior média em Língua Portuguesa não parece se sustentar. Isso se deve ao fato de que, mesmo ao chutar, a probabilidade de acertar todas as questões em um teste maior será menor do que acertar todas em um teste menor. Isso ocorre porque a probabilidade de acerto em cada questão é independente, e a probabilidade de acertar todas as questões diminui à medida que o número de questões aumenta.\n",
    "Portanto, não é correto afirmar que, ao chutar todas as questões, teríamos mais chances de obter uma média mais alta em um teste com mais questões do que em um teste com menos questões. Embora a aleatoriedade do chute possa levar a resultados diferentes, a probabilidade geral de obter uma média mais alta não é necessariamente maior em testes mais longos. Cada questão tem uma probabilidade independente de ser respondida corretamente ao acaso, e essa probabilidade é constante, independentemente do número total de questões."
   ]
  },
  {
   "cell_type": "markdown",
   "metadata": {},
   "source": [
    "Bem, caso ainda não tenha entendido, vamos visualizar com um gráfico:"
   ]
  },
  {
   "cell_type": "code",
   "execution_count": 11,
   "metadata": {},
   "outputs": [
    {
     "data": {
      "image/png": "[encoded data removed]",
      "text/plain": [
       "<Figure size 1000x500 with 1 Axes>"
      ]
     },
     "metadata": {},
     "output_type": "display_data"
    }
   ],
   "source": [
    "def create_bar_chart(ax, labels, values, max_values, colors, title, xlabel, ylabel, legend_label):\n",
    "    # Iterar sobre as matérias\n",
    "    for i, label in enumerate(labels):\n",
    "        max_value = max_values[i]\n",
    "        value = values[i]\n",
    "\n",
    "        # Adicionar barra até a nota máxima possível\n",
    "        ax.bar(label, max_value, color='lightgray', label=legend_label if i == 0 else \"\")\n",
    "\n",
    "        # Adicionar barra preenchida até a altura correspondente à média\n",
    "        ax.bar(label, value, color=colors[i])\n",
    "\n",
    "        # Adicionar anotação sobre a nota máxima possível\n",
    "        ax.annotate(f'{max_value:.2f}', xy=(label, max_value), xytext=(0, 5),\n",
    "                    textcoords='offset points', ha='center', va='bottom', color='black', fontsize=8)\n",
    "\n",
    "    # Adicionar rótulos e título\n",
    "    ax.set_title(title)\n",
    "    ax.set_xlabel(xlabel)\n",
    "    ax.set_ylabel(ylabel)\n",
    "\n",
    "    # Adicionar legenda\n",
    "    ax.legend()\n",
    "\n",
    "# Dados do describe\n",
    "data = {\n",
    "    'Matéria': ['Português', 'Mat', 'Inf', 'Leg', 'ECA'],\n",
    "    'Média': [1.922352, 0.420213, 0.770945, 0.954941, 0.428329],\n",
    "}\n",
    "\n",
    "# Dados da quantidade de questões e nota máxima possível por matéria\n",
    "questions_max = {\n",
    "    'Matéria': ['Português', 'Mat', 'Inf', 'Leg', 'ECA'],\n",
    "    'Quantidade de Questões': [20, 5, 5, 8, 2],\n",
    "    'Nota Máxima Possível': [5.00, 1.25, 1.25, 2.00, 0.50],\n",
    "}\n",
    "\n",
    "# Gráfico de Barras para Médias\n",
    "fig, ax = plt.subplots(figsize=(10, 5))\n",
    "create_bar_chart(ax, data['Matéria'], data['Média'], questions_max['Nota Máxima Possível'],\n",
    "                 ['blue', 'orange', 'green', 'red', 'purple'], 'Média por Matéria', 'Matéria', 'Nota', 'Nota máxima possível')\n",
    "\n",
    "plt.show()\n"
   ]
  },
  {
   "cell_type": "markdown",
   "metadata": {},
   "source": [
    "Vamos entender juntos, de uma vez por todas, o que o gráfico acima nos esclarece mais ainda!\n",
    "\n",
    "Cada cor representa a média geral alcançada por todos os candidatos, como já vimos antes no quadro de estatísticas básicas. \n",
    "\n",
    "As barras cinzas? Bem, essas são como um lembrete, mostrando a nota máxima possível em cada matéria. Uma forma visual de entender como os candidatos se saíram em relação à média geral, considerando o máximo que poderiam atingir. Tudo claro até aqui?\n",
    "\n",
    "Observe que em Português, temos a maior média do conjunto. Isso ocorre coincidentemente com o fato de ser a disciplina em que a pontuação máxima possível também era mais elevada, mas vale ressaltar que não há uma relação direta de causalidade entre esses dois fatores, quer dizer, o máximo que se poderia alcançar em português é 5,0 e essa é a nota mais alta que se poderia alcançar quando comparada com todas as matérias da prova."
   ]
  },
  {
   "cell_type": "code",
   "execution_count": 12,
   "metadata": {},
   "outputs": [
    {
     "data": {
      "image/png": "[encoded data removed]",
      "text/plain": [
       "<Figure size 1000x500 with 1 Axes>"
      ]
     },
     "metadata": {},
     "output_type": "display_data"
    }
   ],
   "source": [
    "# Dados da quantidade de questões por matéria\n",
    "questions = {\n",
    "    'Matéria': ['Português', 'Mat', 'Inf', 'Leg', 'ECA'],\n",
    "    'Quantidade de Questões': [20, 5, 5, 8, 2],\n",
    "}\n",
    "\n",
    "# Calcular porcentagem de acertos com base na média e quantidade de questões\n",
    "data['Porcentagem Média'] = [(m / (q * 0.25)) * 100 for m, q in zip(data['Média'], questions['Quantidade de Questões'])]\n",
    "\n",
    "# Gráfico de Barras para Porcentagem de Acertos\n",
    "fig, ax = plt.subplots(figsize=(10, 5))\n",
    "bars = ax.bar(data['Matéria'], data['Porcentagem Média'], color=['blue', 'orange', 'green', 'red', 'purple'])\n",
    "\n",
    "# Adicionar rótulos e título\n",
    "ax.set_title('Porcentagem de Acertos por Matéria')\n",
    "ax.set_xlabel('Matéria')\n",
    "ax.set_ylabel('Porcentagem de Acertos')\n",
    "\n",
    "# Adicionar valores acima das barras\n",
    "for bar in bars:\n",
    "    yval = bar.get_height()\n",
    "    plt.text(bar.get_x() + bar.get_width()/2, yval, round(yval, 2), ha='center', va='bottom')\n",
    "\n",
    "# Adicionar grade\n",
    "ax.grid(axis='y', linestyle='--', alpha=0.7)\n",
    "\n",
    "# Ajustar limites do eixo y\n",
    "plt.ylim(0, 100)\n",
    "\n",
    "plt.show()"
   ]
  },
  {
   "cell_type": "markdown",
   "metadata": {},
   "source": [
    "Já para as porcentagens de acertos, como vimos, ECA sai disparado na frente em relação a Português (e a todas as outras matérias).\n",
    "Português fica \"mais embaixo\", né?\n",
    "\n",
    "O gráfico realmente nos mostra o que já havíamos considerado anteriormente e nele há os valores exatos das porcentagens.\n",
    "\n",
    "Uma outra questão que quero considerar é o quanto as matérias Português e Matemática estão dentre as que têm menores porcentagens de acertos. Vamos realçar uma discrepância entre a percepção comum e resultados reais:\n",
    "\n",
    "\"Faz essa prova aí do concurso, é matéria do ensino médio, tudo coisa fácil!!!\"\n",
    "Já ouviu isso? eu já, muito!!!\n",
    "\n",
    "Oras, porcentagens de acertos reveladas no gráfico nos surpreendem! Contrariando a percepção comum de que disciplinas como Português e Matemática, consideradas 'básicas' do ensino médio, seriam mais fáceis, os números nos mostram outra realidade. ECA, por exemplo, lidera com folga, demonstrando que nem sempre a familiaridade se traduz em sucesso. Matérias como essa, de legislação, muitas vezes subestimadas, revelaram-se nesse estudo como a matéria de maior desempenho. \n",
    "\n",
    "Esses resultados apontam para algo como a importância de valorizar e se atualizar em todas as áreas, inclusive nas consideradas mais básicas. Afinal, a prova nos revela que o que pode parecer 'fácil' nem sempre corresponde à realidade das porcentagens de acertos\n",
    "\n",
    "Devemos levar em conta, e não podemos nos esquecer que o número de questões para cada matéria era diferente; mas será que se a dificuldade das questões fossem mantidas, se os candidatos estivessem nas mesmas condições em que estavam no dia que realizaram a prova, e o número de questões fossem idênticos para cada matéria, o resultado seria muito diferente? Boa questão não é mesmo? E é totalmente coerente, mas não vamos nos ater a isso e deixamos para um outro trabalho, mas lembre-se que um conjunto de dados pode revelar muito mais e nos deixa aptos a explorar maiores e mais complexas questões."
   ]
  },
  {
   "cell_type": "markdown",
   "metadata": {},
   "source": [
    "# Top 17 Alunos\n",
    "\n",
    "Nesse instante estamos interessados nos \"candidatos top\". O edital previu 17 vagas sendo 14 para ampla concorrência, 1 para pessoa com deficiência e 2 para afro descendentes\n",
    "\n",
    "Vamos desconsiderar as cotas, pois não temos como obter, com os dados utilizados para nossa análise, informações suficientes que possibilitem elencar os candidatos que possam concorrer a essas vaga; bem como vamos desconsiderar a idade como critério de desempate, os quais são os seguintes conforme o edital menciona:\n",
    "\n",
    "- 11.1 – Ocorrendo empate na pontuação final, serão adotados os seguintes critérios para desempate, sucessivamente:\n",
    "- a) idade mais elevada, entre os candidatos com idade igual ou superior a 60 (sessenta) anos, até o último dia de inscrição neste Concurso Público, conforme artigo 27, parágrafo único do Estatuto do Idoso, Lei n.º 10.741, de 1.º de outubro de 2003;\n",
    "- b) maior pontuação nas questões objetivas de Língua Portuguesa;\n",
    "- c) maior pontuação nas questões objetivas de Conhecimento Básico de Legislação;\n",
    "- d) maior pontuação nas questões objetivas de Matemática;\n",
    "- e) mais idade, excetuando-se os candidatos já abrangidos pelo critério definido na \n",
    "alínea ‘a’.\n",
    "\n",
    "Agora, a partir dos dados da tabela em mãos, iremos de fato investigar quais alunos tiveram notas mais altas e que poderiam ficar entre os 17 que ocupariam as vagas disponíveis. Precisamos seguir algumas etapas e vamos começar analisando quantos alunos têm nota maior ou igual a 6.0, por quê? Pois a nota para ser aprovado, segundo o edital precisa ser maior ou igual a 6.0, então todos os que tiverem notas dentro desse intervalo estão aprovados. "
   ]
  },
  {
   "cell_type": "code",
   "execution_count": 13,
   "metadata": {},
   "outputs": [
    {
     "data": {
      "text/plain": [
       "1735"
      ]
     },
     "execution_count": 13,
     "metadata": {},
     "output_type": "execute_result"
    }
   ],
   "source": [
    "# Verificando quantidade de notas maiores ou iguais a 6.0\n",
    "major_or_equal_6 = df['nota_final']>=6.0\n",
    "major_or_equal_6.sum()"
   ]
  },
  {
   "cell_type": "markdown",
   "metadata": {},
   "source": [
    "São 1735 candidatos que tiveram essa nota, então precisamos verificar quais são as notas,os números mesmo, dentro desse intervalo:"
   ]
  },
  {
   "cell_type": "code",
   "execution_count": 36,
   "metadata": {},
   "outputs": [
    {
     "data": {
      "text/plain": [
       "array([9.  , 8.75, 8.5 , 8.25, 8.  , 7.75, 7.5 , 7.25, 7.  , 6.75, 6.5 ,\n",
       "       6.25, 6.  ])"
      ]
     },
     "execution_count": 36,
     "metadata": {},
     "output_type": "execute_result"
    }
   ],
   "source": [
    "# Verificando os valores únicos dentro do intervalo >=6.0\n",
    "unique_values = df.loc[major_or_equal_6, 'nota_final'].sort_values(ascending=False)\n",
    "unique_values.unique()"
   ]
  },
  {
   "cell_type": "markdown",
   "metadata": {},
   "source": [
    "Vamos destacar o que temos ali:\n",
    "\n",
    "9, \n",
    "8.75, \n",
    "8.5,\n",
    "8.25, \n",
    "8, \n",
    "7.75,\n",
    "7.5,\n",
    "7.25, \n",
    "7, \n",
    "6.75, \n",
    "6.5, \n",
    "6.25, \n",
    "6  \n",
    "\n",
    "Os valores apresentados são as notas únicas dentro do intervalo >=6, ou seja, precisamos agora saber a quantidade de cada nota, perceba que temos notas 9.0, 8.75 e assim por diante, mas ainda não sabemos quantos valores de cada temos, então vamos também verificar isso:"
   ]
  },
  {
   "cell_type": "code",
   "execution_count": 15,
   "metadata": {},
   "outputs": [
    {
     "data": {
      "text/html": [
       "<div>\n",
       "<style scoped>\n",
       "    .dataframe tbody tr th:only-of-type {\n",
       "        vertical-align: middle;\n",
       "    }\n",
       "\n",
       "    .dataframe tbody tr th {\n",
       "        vertical-align: top;\n",
       "    }\n",
       "\n",
       "    .dataframe thead th {\n",
       "        text-align: right;\n",
       "    }\n",
       "</style>\n",
       "<table border=\"1\" class=\"dataframe\">\n",
       "  <thead>\n",
       "    <tr style=\"text-align: right;\">\n",
       "      <th></th>\n",
       "      <th>nota_final</th>\n",
       "      <th>quantidade</th>\n",
       "    </tr>\n",
       "  </thead>\n",
       "  <tbody>\n",
       "    <tr>\n",
       "      <th>0</th>\n",
       "      <td>9.00</td>\n",
       "      <td>2</td>\n",
       "    </tr>\n",
       "    <tr>\n",
       "      <th>1</th>\n",
       "      <td>8.75</td>\n",
       "      <td>2</td>\n",
       "    </tr>\n",
       "    <tr>\n",
       "      <th>2</th>\n",
       "      <td>8.50</td>\n",
       "      <td>8</td>\n",
       "    </tr>\n",
       "    <tr>\n",
       "      <th>3</th>\n",
       "      <td>8.25</td>\n",
       "      <td>22</td>\n",
       "    </tr>\n",
       "    <tr>\n",
       "      <th>4</th>\n",
       "      <td>8.00</td>\n",
       "      <td>47</td>\n",
       "    </tr>\n",
       "    <tr>\n",
       "      <th>5</th>\n",
       "      <td>7.50</td>\n",
       "      <td>64</td>\n",
       "    </tr>\n",
       "    <tr>\n",
       "      <th>6</th>\n",
       "      <td>7.75</td>\n",
       "      <td>71</td>\n",
       "    </tr>\n",
       "    <tr>\n",
       "      <th>7</th>\n",
       "      <td>7.25</td>\n",
       "      <td>140</td>\n",
       "    </tr>\n",
       "    <tr>\n",
       "      <th>8</th>\n",
       "      <td>7.00</td>\n",
       "      <td>178</td>\n",
       "    </tr>\n",
       "    <tr>\n",
       "      <th>9</th>\n",
       "      <td>6.75</td>\n",
       "      <td>194</td>\n",
       "    </tr>\n",
       "    <tr>\n",
       "      <th>10</th>\n",
       "      <td>6.50</td>\n",
       "      <td>265</td>\n",
       "    </tr>\n",
       "    <tr>\n",
       "      <th>11</th>\n",
       "      <td>6.25</td>\n",
       "      <td>357</td>\n",
       "    </tr>\n",
       "    <tr>\n",
       "      <th>12</th>\n",
       "      <td>6.00</td>\n",
       "      <td>385</td>\n",
       "    </tr>\n",
       "  </tbody>\n",
       "</table>\n",
       "</div>"
      ],
      "text/plain": [
       "    nota_final  quantidade\n",
       "0         9.00           2\n",
       "1         8.75           2\n",
       "2         8.50           8\n",
       "3         8.25          22\n",
       "4         8.00          47\n",
       "5         7.50          64\n",
       "6         7.75          71\n",
       "7         7.25         140\n",
       "8         7.00         178\n",
       "9         6.75         194\n",
       "10        6.50         265\n",
       "11        6.25         357\n",
       "12        6.00         385"
      ]
     },
     "execution_count": 15,
     "metadata": {},
     "output_type": "execute_result"
    }
   ],
   "source": [
    "# Verificando a quantidade de cada nota única\n",
    "counts = unique_values.value_counts().sort_values(ascending=True)\n",
    "\n",
    "# Transformando a contagem de notas em um DataFrame\n",
    "df_counts = pd.DataFrame(counts).reset_index()\n",
    "df_counts.columns = ['nota_final', 'quantidade']\n",
    "\n",
    "# Exibindo o DataFrame\n",
    "df_counts\n"
   ]
  },
  {
   "cell_type": "markdown",
   "metadata": {},
   "source": [
    "Vou criar um gráfico em que o eixo horizontal representa cada nota e o vertical representa a quantidade de cada uma dessas notas, apenas para ficar mais visual."
   ]
  },
  {
   "cell_type": "code",
   "execution_count": 16,
   "metadata": {},
   "outputs": [
    {
     "data": {
      "image/png": "[encoded data removed]",
      "text/plain": [
       "<Figure size 1000x600 with 1 Axes>"
      ]
     },
     "metadata": {},
     "output_type": "display_data"
    }
   ],
   "source": [
    "# Criar gráfico de barras\n",
    "plt.figure(figsize=(10, 6))\n",
    "plt.bar(df_counts['nota_final'], df_counts['quantidade'], color='blue', width=0.2)\n",
    "\n",
    "# Adicionar rótulos e título\n",
    "plt.xlabel('Nota Final')\n",
    "plt.ylabel('Quantidade')\n",
    "plt.title('Frequência de Notas Finais')\n",
    "\n",
    "# Adicionar valores acima das barras\n",
    "for i, v in enumerate(df_counts['quantidade']):\n",
    "    plt.text(df_counts['nota_final'].iloc[i], v + 10, str(v), ha='center', va='bottom')\n",
    "\n",
    "# Adicionar grade\n",
    "plt.grid(axis='y', linestyle='--', alpha=0.7)\n",
    "\n",
    "plt.show()"
   ]
  },
  {
   "cell_type": "markdown",
   "metadata": {},
   "source": [
    "Como podemos ver na tabela (e gráfico) acima, temos 2 candidatos que atingiram nota 9.0 e 2 candidatos que atingiram nota 8.75. Apenas por curiosidade, num primeiro momento, vamos ver quem são esses candidatos, os nomes deles. "
   ]
  },
  {
   "cell_type": "code",
   "execution_count": 17,
   "metadata": {},
   "outputs": [
    {
     "data": {
      "text/html": [
       "<div>\n",
       "<style scoped>\n",
       "    .dataframe tbody tr th:only-of-type {\n",
       "        vertical-align: middle;\n",
       "    }\n",
       "\n",
       "    .dataframe tbody tr th {\n",
       "        vertical-align: top;\n",
       "    }\n",
       "\n",
       "    .dataframe thead th {\n",
       "        text-align: right;\n",
       "    }\n",
       "</style>\n",
       "<table border=\"1\" class=\"dataframe\">\n",
       "  <thead>\n",
       "    <tr style=\"text-align: right;\">\n",
       "      <th></th>\n",
       "      <th>candidato</th>\n",
       "      <th>port</th>\n",
       "      <th>mat</th>\n",
       "      <th>inf</th>\n",
       "      <th>leg</th>\n",
       "      <th>eca</th>\n",
       "      <th>nota_final</th>\n",
       "    </tr>\n",
       "  </thead>\n",
       "  <tbody>\n",
       "    <tr>\n",
       "      <th>2</th>\n",
       "      <td>Jefferson Hyan Ferreira</td>\n",
       "      <td>4.50</td>\n",
       "      <td>1.25</td>\n",
       "      <td>1.00</td>\n",
       "      <td>1.75</td>\n",
       "      <td>0.5</td>\n",
       "      <td>9.00</td>\n",
       "    </tr>\n",
       "    <tr>\n",
       "      <th>3</th>\n",
       "      <td>Jonas Luís Rockenbach</td>\n",
       "      <td>4.25</td>\n",
       "      <td>1.25</td>\n",
       "      <td>1.25</td>\n",
       "      <td>1.75</td>\n",
       "      <td>0.5</td>\n",
       "      <td>9.00</td>\n",
       "    </tr>\n",
       "    <tr>\n",
       "      <th>0</th>\n",
       "      <td>Alan Christian Gimenez</td>\n",
       "      <td>4.25</td>\n",
       "      <td>1.25</td>\n",
       "      <td>1.00</td>\n",
       "      <td>1.75</td>\n",
       "      <td>0.5</td>\n",
       "      <td>8.75</td>\n",
       "    </tr>\n",
       "    <tr>\n",
       "      <th>1</th>\n",
       "      <td>Jackeline Santos Neves da Silva</td>\n",
       "      <td>4.25</td>\n",
       "      <td>0.75</td>\n",
       "      <td>1.25</td>\n",
       "      <td>2.00</td>\n",
       "      <td>0.5</td>\n",
       "      <td>8.75</td>\n",
       "    </tr>\n",
       "  </tbody>\n",
       "</table>\n",
       "</div>"
      ],
      "text/plain": [
       "                         candidato  port   mat   inf   leg  eca  nota_final\n",
       "2          Jefferson Hyan Ferreira  4.50  1.25  1.00  1.75  0.5        9.00\n",
       "3            Jonas Luís Rockenbach  4.25  1.25  1.25  1.75  0.5        9.00\n",
       "0           Alan Christian Gimenez  4.25  1.25  1.00  1.75  0.5        8.75\n",
       "1  Jackeline Santos Neves da Silva  4.25  0.75  1.25  2.00  0.5        8.75"
      ]
     },
     "execution_count": 17,
     "metadata": {},
     "output_type": "execute_result"
    }
   ],
   "source": [
    "# Filtrando o DataFrame original para as notas 9.0 e 8.75\n",
    "specific_note = df[df['nota_final'].isin([9.0, 8.75])]\n",
    "\n",
    "# Exibindo apenas as colunas \"candidato\" e \"nota_final\"\n",
    "result = specific_note[['candidato', 'port',\t'mat',\t'inf',\t'leg', 'eca','nota_final']]\n",
    "\n",
    "# Resetando o índice, se desejar\n",
    "result = result.reset_index(drop=True)\n",
    "\n",
    "# Exibindo o resultado\n",
    "result.sort_values(by='nota_final', ascending=False)\n"
   ]
  },
  {
   "cell_type": "markdown",
   "metadata": {},
   "source": [
    "Com esse \"pequeno conjunto de candidatos\" fica fácil saber qual deles está em primeiro lugar de acordo com os critérios de desempate, no entanto quando começamos a avaliar as outras notas da tabela, o \"trabalho braçal\" pode não ser tão produtivo e muito menos intuitivo; então precisamos de uma abordagem mais sistemática que calcule as notas finais, os critérios de desempate e logo depois posicione os candidatos em uma lista. Vamos revisar os critérios de desempate com os quais estamos lidando:\n",
    "\n",
    "- b) maior pontuação nas questões objetivas de Língua Portuguesa;\n",
    "- c) maior pontuação nas questões objetivas de Conhecimento Básico de Legislação;\n",
    "- d) maior pontuação nas questões objetivas de Matemática;"
   ]
  },
  {
   "cell_type": "code",
   "execution_count": 18,
   "metadata": {},
   "outputs": [
    {
     "data": {
      "text/html": [
       "<div>\n",
       "<style scoped>\n",
       "    .dataframe tbody tr th:only-of-type {\n",
       "        vertical-align: middle;\n",
       "    }\n",
       "\n",
       "    .dataframe tbody tr th {\n",
       "        vertical-align: top;\n",
       "    }\n",
       "\n",
       "    .dataframe thead th {\n",
       "        text-align: right;\n",
       "    }\n",
       "</style>\n",
       "<table border=\"1\" class=\"dataframe\">\n",
       "  <thead>\n",
       "    <tr style=\"text-align: right;\">\n",
       "      <th></th>\n",
       "      <th>candidato</th>\n",
       "      <th>port</th>\n",
       "      <th>mat</th>\n",
       "      <th>inf</th>\n",
       "      <th>leg</th>\n",
       "      <th>eca</th>\n",
       "      <th>nota_final</th>\n",
       "    </tr>\n",
       "    <tr>\n",
       "      <th>colocacao_preliminar</th>\n",
       "      <th></th>\n",
       "      <th></th>\n",
       "      <th></th>\n",
       "      <th></th>\n",
       "      <th></th>\n",
       "      <th></th>\n",
       "      <th></th>\n",
       "    </tr>\n",
       "  </thead>\n",
       "  <tbody>\n",
       "    <tr>\n",
       "      <th>1</th>\n",
       "      <td>Jefferson Hyan Ferreira</td>\n",
       "      <td>4.50</td>\n",
       "      <td>1.25</td>\n",
       "      <td>1.00</td>\n",
       "      <td>1.75</td>\n",
       "      <td>0.5</td>\n",
       "      <td>9.00</td>\n",
       "    </tr>\n",
       "    <tr>\n",
       "      <th>2</th>\n",
       "      <td>Jonas Luís Rockenbach</td>\n",
       "      <td>4.25</td>\n",
       "      <td>1.25</td>\n",
       "      <td>1.25</td>\n",
       "      <td>1.75</td>\n",
       "      <td>0.5</td>\n",
       "      <td>9.00</td>\n",
       "    </tr>\n",
       "    <tr>\n",
       "      <th>3</th>\n",
       "      <td>Jackeline Santos Neves da Silva</td>\n",
       "      <td>4.25</td>\n",
       "      <td>0.75</td>\n",
       "      <td>1.25</td>\n",
       "      <td>2.00</td>\n",
       "      <td>0.5</td>\n",
       "      <td>8.75</td>\n",
       "    </tr>\n",
       "    <tr>\n",
       "      <th>4</th>\n",
       "      <td>Alan Christian Gimenez</td>\n",
       "      <td>4.25</td>\n",
       "      <td>1.25</td>\n",
       "      <td>1.00</td>\n",
       "      <td>1.75</td>\n",
       "      <td>0.5</td>\n",
       "      <td>8.75</td>\n",
       "    </tr>\n",
       "    <tr>\n",
       "      <th>5</th>\n",
       "      <td>Naylor Moreira Batista</td>\n",
       "      <td>4.25</td>\n",
       "      <td>0.75</td>\n",
       "      <td>1.00</td>\n",
       "      <td>2.00</td>\n",
       "      <td>0.5</td>\n",
       "      <td>8.50</td>\n",
       "    </tr>\n",
       "    <tr>\n",
       "      <th>...</th>\n",
       "      <td>...</td>\n",
       "      <td>...</td>\n",
       "      <td>...</td>\n",
       "      <td>...</td>\n",
       "      <td>...</td>\n",
       "      <td>...</td>\n",
       "      <td>...</td>\n",
       "    </tr>\n",
       "    <tr>\n",
       "      <th>1731</th>\n",
       "      <td>Matheus Luiz Pauka Siquieri</td>\n",
       "      <td>1.75</td>\n",
       "      <td>0.75</td>\n",
       "      <td>1.25</td>\n",
       "      <td>1.75</td>\n",
       "      <td>0.5</td>\n",
       "      <td>6.00</td>\n",
       "    </tr>\n",
       "    <tr>\n",
       "      <th>1732</th>\n",
       "      <td>Maycon Jose Marcelino</td>\n",
       "      <td>1.75</td>\n",
       "      <td>0.75</td>\n",
       "      <td>1.25</td>\n",
       "      <td>1.75</td>\n",
       "      <td>0.5</td>\n",
       "      <td>6.00</td>\n",
       "    </tr>\n",
       "    <tr>\n",
       "      <th>1733</th>\n",
       "      <td>Guilherme Cesar Ferreira Furtado</td>\n",
       "      <td>1.75</td>\n",
       "      <td>1.25</td>\n",
       "      <td>1.00</td>\n",
       "      <td>1.50</td>\n",
       "      <td>0.5</td>\n",
       "      <td>6.00</td>\n",
       "    </tr>\n",
       "    <tr>\n",
       "      <th>1734</th>\n",
       "      <td>Alexandre Carlos de Alencar Correa</td>\n",
       "      <td>1.50</td>\n",
       "      <td>0.75</td>\n",
       "      <td>1.25</td>\n",
       "      <td>2.00</td>\n",
       "      <td>0.5</td>\n",
       "      <td>6.00</td>\n",
       "    </tr>\n",
       "    <tr>\n",
       "      <th>1735</th>\n",
       "      <td>Gabriela de Almeida Barbosa</td>\n",
       "      <td>1.50</td>\n",
       "      <td>1.00</td>\n",
       "      <td>1.25</td>\n",
       "      <td>1.75</td>\n",
       "      <td>0.5</td>\n",
       "      <td>6.00</td>\n",
       "    </tr>\n",
       "  </tbody>\n",
       "</table>\n",
       "<p>1735 rows × 7 columns</p>\n",
       "</div>"
      ],
      "text/plain": [
       "                                               candidato  port   mat   inf  \\\n",
       "colocacao_preliminar                                                         \n",
       "1                                Jefferson Hyan Ferreira  4.50  1.25  1.00   \n",
       "2                                  Jonas Luís Rockenbach  4.25  1.25  1.25   \n",
       "3                        Jackeline Santos Neves da Silva  4.25  0.75  1.25   \n",
       "4                                 Alan Christian Gimenez  4.25  1.25  1.00   \n",
       "5                                 Naylor Moreira Batista  4.25  0.75  1.00   \n",
       "...                                                  ...   ...   ...   ...   \n",
       "1731                         Matheus Luiz Pauka Siquieri  1.75  0.75  1.25   \n",
       "1732                               Maycon Jose Marcelino  1.75  0.75  1.25   \n",
       "1733                    Guilherme Cesar Ferreira Furtado  1.75  1.25  1.00   \n",
       "1734                  Alexandre Carlos de Alencar Correa  1.50  0.75  1.25   \n",
       "1735                         Gabriela de Almeida Barbosa  1.50  1.00  1.25   \n",
       "\n",
       "                       leg  eca  nota_final  \n",
       "colocacao_preliminar                         \n",
       "1                     1.75  0.5        9.00  \n",
       "2                     1.75  0.5        9.00  \n",
       "3                     2.00  0.5        8.75  \n",
       "4                     1.75  0.5        8.75  \n",
       "5                     2.00  0.5        8.50  \n",
       "...                    ...  ...         ...  \n",
       "1731                  1.75  0.5        6.00  \n",
       "1732                  1.75  0.5        6.00  \n",
       "1733                  1.50  0.5        6.00  \n",
       "1734                  2.00  0.5        6.00  \n",
       "1735                  1.75  0.5        6.00  \n",
       "\n",
       "[1735 rows x 7 columns]"
      ]
     },
     "execution_count": 18,
     "metadata": {},
     "output_type": "execute_result"
    }
   ],
   "source": [
    "def calculate_placement(df, cutoff_score=6.0):\n",
    "    # Create a copy of the original DataFrame\n",
    "    higher_or_equal_scores = df[df['nota_final'] >= cutoff_score].copy()\n",
    "\n",
    "    # Calculate final scores with tie-break criteria\n",
    "    higher_or_equal_scores['nota_final_with_tiebreak'] = (\n",
    "        higher_or_equal_scores['port'] +\n",
    "        higher_or_equal_scores['mat'] +\n",
    "        higher_or_equal_scores['inf'] +\n",
    "        higher_or_equal_scores['leg'] +\n",
    "        higher_or_equal_scores['eca']\n",
    "    )\n",
    "\n",
    "    # Sort the DataFrame by final scores with tie-break criteria in descending order\n",
    "    higher_or_equal_scores = higher_or_equal_scores.sort_values(\n",
    "        by=['nota_final_with_tiebreak', 'nota_final', 'port', 'leg', 'mat'],\n",
    "        ascending=[False, False, False, False, False]\n",
    "    )\n",
    "\n",
    "    # Add a column with preliminary placement\n",
    "    higher_or_equal_scores['colocacao_preliminar'] = range(1, len(higher_or_equal_scores) + 1)\n",
    "\n",
    "    # Set 'colocacao_preliminar' column as the index\n",
    "    higher_or_equal_scores.set_index('colocacao_preliminar', inplace=True)\n",
    "\n",
    "    # Select the desired columns in the final DataFrame\n",
    "    final_result = higher_or_equal_scores[['candidato', 'port', 'mat', 'inf', 'leg', 'eca', 'nota_final']]\n",
    "\n",
    "    return final_result\n",
    "\n",
    "# Example of using the function\n",
    "df_final_result = calculate_placement(df)\n",
    "df_final_result"
   ]
  },
  {
   "cell_type": "markdown",
   "metadata": {},
   "source": [
    "Algo que não falamos antes: perceba que há um salto entre o valor 5 e 1731 (se você reparou bem, há esse mesmo \"salto\" em outras tabelas antes apresentadas). O programa de análise de dados nos dá apenas um vislumbre do total, mas acredite, todos os candidatos estão nesse conjunto ok? Agora sim temos uma tabela com a relação dos candidatos que tiveram notas maiores ou iguais a 6.0 bem como a colocação de cada um deles apresentada na primeira coluna, já considerados a maior nota final e o critério de desempate. Vamos elencar os 17 candidatos que ficaram no topo da lista."
   ]
  },
  {
   "cell_type": "code",
   "execution_count": 19,
   "metadata": {},
   "outputs": [
    {
     "data": {
      "text/html": [
       "<div>\n",
       "<style scoped>\n",
       "    .dataframe tbody tr th:only-of-type {\n",
       "        vertical-align: middle;\n",
       "    }\n",
       "\n",
       "    .dataframe tbody tr th {\n",
       "        vertical-align: top;\n",
       "    }\n",
       "\n",
       "    .dataframe thead th {\n",
       "        text-align: right;\n",
       "    }\n",
       "</style>\n",
       "<table border=\"1\" class=\"dataframe\">\n",
       "  <thead>\n",
       "    <tr style=\"text-align: right;\">\n",
       "      <th></th>\n",
       "      <th>candidato</th>\n",
       "      <th>port</th>\n",
       "      <th>mat</th>\n",
       "      <th>inf</th>\n",
       "      <th>leg</th>\n",
       "      <th>eca</th>\n",
       "      <th>nota_final</th>\n",
       "    </tr>\n",
       "    <tr>\n",
       "      <th>colocacao_preliminar</th>\n",
       "      <th></th>\n",
       "      <th></th>\n",
       "      <th></th>\n",
       "      <th></th>\n",
       "      <th></th>\n",
       "      <th></th>\n",
       "      <th></th>\n",
       "    </tr>\n",
       "  </thead>\n",
       "  <tbody>\n",
       "    <tr>\n",
       "      <th>1</th>\n",
       "      <td>Jefferson Hyan Ferreira</td>\n",
       "      <td>4.50</td>\n",
       "      <td>1.25</td>\n",
       "      <td>1.00</td>\n",
       "      <td>1.75</td>\n",
       "      <td>0.50</td>\n",
       "      <td>9.00</td>\n",
       "    </tr>\n",
       "    <tr>\n",
       "      <th>2</th>\n",
       "      <td>Jonas Luís Rockenbach</td>\n",
       "      <td>4.25</td>\n",
       "      <td>1.25</td>\n",
       "      <td>1.25</td>\n",
       "      <td>1.75</td>\n",
       "      <td>0.50</td>\n",
       "      <td>9.00</td>\n",
       "    </tr>\n",
       "    <tr>\n",
       "      <th>3</th>\n",
       "      <td>Jackeline Santos Neves da Silva</td>\n",
       "      <td>4.25</td>\n",
       "      <td>0.75</td>\n",
       "      <td>1.25</td>\n",
       "      <td>2.00</td>\n",
       "      <td>0.50</td>\n",
       "      <td>8.75</td>\n",
       "    </tr>\n",
       "    <tr>\n",
       "      <th>4</th>\n",
       "      <td>Alan Christian Gimenez</td>\n",
       "      <td>4.25</td>\n",
       "      <td>1.25</td>\n",
       "      <td>1.00</td>\n",
       "      <td>1.75</td>\n",
       "      <td>0.50</td>\n",
       "      <td>8.75</td>\n",
       "    </tr>\n",
       "    <tr>\n",
       "      <th>5</th>\n",
       "      <td>Naylor Moreira Batista</td>\n",
       "      <td>4.25</td>\n",
       "      <td>0.75</td>\n",
       "      <td>1.00</td>\n",
       "      <td>2.00</td>\n",
       "      <td>0.50</td>\n",
       "      <td>8.50</td>\n",
       "    </tr>\n",
       "    <tr>\n",
       "      <th>6</th>\n",
       "      <td>Elisangela Pacheco da Silva</td>\n",
       "      <td>4.25</td>\n",
       "      <td>0.50</td>\n",
       "      <td>1.25</td>\n",
       "      <td>2.00</td>\n",
       "      <td>0.50</td>\n",
       "      <td>8.50</td>\n",
       "    </tr>\n",
       "    <tr>\n",
       "      <th>7</th>\n",
       "      <td>Yukiko Sakomoto Belem</td>\n",
       "      <td>4.25</td>\n",
       "      <td>0.50</td>\n",
       "      <td>1.25</td>\n",
       "      <td>2.00</td>\n",
       "      <td>0.50</td>\n",
       "      <td>8.50</td>\n",
       "    </tr>\n",
       "    <tr>\n",
       "      <th>8</th>\n",
       "      <td>Felipe Pfeffer</td>\n",
       "      <td>4.25</td>\n",
       "      <td>1.00</td>\n",
       "      <td>1.00</td>\n",
       "      <td>1.75</td>\n",
       "      <td>0.50</td>\n",
       "      <td>8.50</td>\n",
       "    </tr>\n",
       "    <tr>\n",
       "      <th>9</th>\n",
       "      <td>Thais Nicoletti Silva</td>\n",
       "      <td>4.25</td>\n",
       "      <td>1.00</td>\n",
       "      <td>1.25</td>\n",
       "      <td>1.50</td>\n",
       "      <td>0.50</td>\n",
       "      <td>8.50</td>\n",
       "    </tr>\n",
       "    <tr>\n",
       "      <th>10</th>\n",
       "      <td>Allan Sorrilha Meira Barros</td>\n",
       "      <td>4.00</td>\n",
       "      <td>1.25</td>\n",
       "      <td>1.00</td>\n",
       "      <td>1.75</td>\n",
       "      <td>0.50</td>\n",
       "      <td>8.50</td>\n",
       "    </tr>\n",
       "    <tr>\n",
       "      <th>11</th>\n",
       "      <td>Vanessa Carvalho Fenelon</td>\n",
       "      <td>4.00</td>\n",
       "      <td>1.25</td>\n",
       "      <td>1.00</td>\n",
       "      <td>1.75</td>\n",
       "      <td>0.50</td>\n",
       "      <td>8.50</td>\n",
       "    </tr>\n",
       "    <tr>\n",
       "      <th>12</th>\n",
       "      <td>Bruna Barbara Polizer</td>\n",
       "      <td>4.00</td>\n",
       "      <td>1.00</td>\n",
       "      <td>1.25</td>\n",
       "      <td>1.75</td>\n",
       "      <td>0.50</td>\n",
       "      <td>8.50</td>\n",
       "    </tr>\n",
       "    <tr>\n",
       "      <th>13</th>\n",
       "      <td>Mateus Henrique Aparecido Primilla</td>\n",
       "      <td>4.25</td>\n",
       "      <td>0.50</td>\n",
       "      <td>1.25</td>\n",
       "      <td>2.00</td>\n",
       "      <td>0.25</td>\n",
       "      <td>8.25</td>\n",
       "    </tr>\n",
       "    <tr>\n",
       "      <th>14</th>\n",
       "      <td>Pedro Henrique de Souza Marques</td>\n",
       "      <td>4.25</td>\n",
       "      <td>1.00</td>\n",
       "      <td>1.00</td>\n",
       "      <td>1.50</td>\n",
       "      <td>0.50</td>\n",
       "      <td>8.25</td>\n",
       "    </tr>\n",
       "    <tr>\n",
       "      <th>15</th>\n",
       "      <td>Renan Constantino Colli</td>\n",
       "      <td>4.25</td>\n",
       "      <td>1.00</td>\n",
       "      <td>1.00</td>\n",
       "      <td>1.50</td>\n",
       "      <td>0.50</td>\n",
       "      <td>8.25</td>\n",
       "    </tr>\n",
       "    <tr>\n",
       "      <th>16</th>\n",
       "      <td>Robson dos Santos Mendonça</td>\n",
       "      <td>4.25</td>\n",
       "      <td>1.00</td>\n",
       "      <td>1.00</td>\n",
       "      <td>1.50</td>\n",
       "      <td>0.50</td>\n",
       "      <td>8.25</td>\n",
       "    </tr>\n",
       "    <tr>\n",
       "      <th>17</th>\n",
       "      <td>Gabriel Weber Maximowski</td>\n",
       "      <td>4.25</td>\n",
       "      <td>0.75</td>\n",
       "      <td>1.25</td>\n",
       "      <td>1.50</td>\n",
       "      <td>0.50</td>\n",
       "      <td>8.25</td>\n",
       "    </tr>\n",
       "  </tbody>\n",
       "</table>\n",
       "</div>"
      ],
      "text/plain": [
       "                                               candidato  port   mat   inf  \\\n",
       "colocacao_preliminar                                                         \n",
       "1                                Jefferson Hyan Ferreira  4.50  1.25  1.00   \n",
       "2                                  Jonas Luís Rockenbach  4.25  1.25  1.25   \n",
       "3                        Jackeline Santos Neves da Silva  4.25  0.75  1.25   \n",
       "4                                 Alan Christian Gimenez  4.25  1.25  1.00   \n",
       "5                                 Naylor Moreira Batista  4.25  0.75  1.00   \n",
       "6                            Elisangela Pacheco da Silva  4.25  0.50  1.25   \n",
       "7                                  Yukiko Sakomoto Belem  4.25  0.50  1.25   \n",
       "8                                         Felipe Pfeffer  4.25  1.00  1.00   \n",
       "9                                  Thais Nicoletti Silva  4.25  1.00  1.25   \n",
       "10                           Allan Sorrilha Meira Barros  4.00  1.25  1.00   \n",
       "11                              Vanessa Carvalho Fenelon  4.00  1.25  1.00   \n",
       "12                                 Bruna Barbara Polizer  4.00  1.00  1.25   \n",
       "13                    Mateus Henrique Aparecido Primilla  4.25  0.50  1.25   \n",
       "14                       Pedro Henrique de Souza Marques  4.25  1.00  1.00   \n",
       "15                               Renan Constantino Colli  4.25  1.00  1.00   \n",
       "16                            Robson dos Santos Mendonça  4.25  1.00  1.00   \n",
       "17                              Gabriel Weber Maximowski  4.25  0.75  1.25   \n",
       "\n",
       "                       leg   eca  nota_final  \n",
       "colocacao_preliminar                          \n",
       "1                     1.75  0.50        9.00  \n",
       "2                     1.75  0.50        9.00  \n",
       "3                     2.00  0.50        8.75  \n",
       "4                     1.75  0.50        8.75  \n",
       "5                     2.00  0.50        8.50  \n",
       "6                     2.00  0.50        8.50  \n",
       "7                     2.00  0.50        8.50  \n",
       "8                     1.75  0.50        8.50  \n",
       "9                     1.50  0.50        8.50  \n",
       "10                    1.75  0.50        8.50  \n",
       "11                    1.75  0.50        8.50  \n",
       "12                    1.75  0.50        8.50  \n",
       "13                    2.00  0.25        8.25  \n",
       "14                    1.50  0.50        8.25  \n",
       "15                    1.50  0.50        8.25  \n",
       "16                    1.50  0.50        8.25  \n",
       "17                    1.50  0.50        8.25  "
      ]
     },
     "execution_count": 19,
     "metadata": {},
     "output_type": "execute_result"
    }
   ],
   "source": [
    "df_top_17 = df_final_result.head(17)\n",
    "df_top_17"
   ]
  },
  {
   "cell_type": "markdown",
   "metadata": {},
   "source": [
    "Aí acima, então, temos os nomes daqueles que vão trabalhar pro estado, ao menos segundo o resultado dessa análise da nota preliminar :). \n",
    "\n",
    "Vou criar outro gráfico apenas para que possamos visualizar em que nível um candidato ficou em relação a outro conforme cada matéria. Cada barra representa uma matéria e o eixo vertical representa a nota de cada matéria (lembre-se que o limite máximo de nota para cada matéria é diferente, como já vimos num gráfico anterior)\n",
    "\n",
    "O gráfico criado será interativo. Cada cor representa uma matéria específica, como se traduz no quadro indicativo ao lado do gráfico (\"Disciplina\"). Inicialmente, com as barras empilhadas, o gráfico não facilita muito a comparação do desempenho em cada matéria; no entanto, temos um \"efeito\": se navegarmos com nosso mouse sobre as barras veremos um quadro \"flutuante\" com o nome do candidato, o nome da disciplina e a nota alcançada. Já no quadro \"Disciplina\", na lateral do gráfico, podemos \"esconder as disciplinas\" clicando em qualquer das cores, assim ela desaparecerá do gráfico, e se clicarmos novamente na cor que desapareceu, ela aparecerá no gráfico. \n",
    "\n",
    "Experimente deixar apenas uma cor visível, fica muito mais fácil comparar o desempenho entre os candidatos assim, veja lá e diga se não é."
   ]
  },
  {
   "cell_type": "code",
   "execution_count": 20,
   "metadata": {},
   "outputs": [
    {
     "data": {
      "application/vnd.plotly.v1+json": {
       "config": {
        "plotlyServerURL": "https://plot.ly"
       },
       "data": [
        {
         "alignmentgroup": "True",
         "hovertemplate": "<b>%{hovertext}</b><br><br>Disciplina=port<br>candidato=%{x}<br>Nota=%{y}<extra></extra>",
         "hovertext": [
          "Jefferson Hyan Ferreira",
          "Jonas Luís Rockenbach",
          "Jackeline Santos Neves da Silva",
          "Alan Christian Gimenez",
          "Naylor Moreira Batista",
          "Elisangela Pacheco da Silva",
          "Yukiko Sakomoto Belem",
          "Felipe Pfeffer",
          "Thais Nicoletti Silva",
          "Allan Sorrilha Meira Barros",
          "Vanessa Carvalho Fenelon",
          "Bruna Barbara Polizer",
          "Mateus Henrique Aparecido Primilla",
          "Pedro Henrique de Souza Marques",
          "Renan Constantino Colli",
          "Robson dos Santos Mendonça",
          "Gabriel Weber Maximowski"
         ],
         "legendgroup": "port",
         "marker": {
          "color": "#636efa",
          "pattern": {
           "shape": ""
          }
         },
         "name": "port",
         "offsetgroup": "port",
         "orientation": "v",
         "showlegend": true,
         "textposition": "auto",
         "type": "bar",
         "x": [
          "Jefferson Hyan Ferreira",
          "Jonas Luís Rockenbach",
          "Jackeline Santos Neves da Silva",
          "Alan Christian Gimenez",
          "Naylor Moreira Batista",
          "Elisangela Pacheco da Silva",
          "Yukiko Sakomoto Belem",
          "Felipe Pfeffer",
          "Thais Nicoletti Silva",
          "Allan Sorrilha Meira Barros",
          "Vanessa Carvalho Fenelon",
          "Bruna Barbara Polizer",
          "Mateus Henrique Aparecido Primilla",
          "Pedro Henrique de Souza Marques",
          "Renan Constantino Colli",
          "Robson dos Santos Mendonça",
          "Gabriel Weber Maximowski"
         ],
         "xaxis": "x",
         "y": [
          4.5,
          4.25,
          4.25,
          4.25,
          4.25,
          4.25,
          4.25,
          4.25,
          4.25,
          4,
          4,
          4,
          4.25,
          4.25,
          4.25,
          4.25,
          4.25
         ],
         "yaxis": "y"
        },
        {
         "alignmentgroup": "True",
         "hovertemplate": "<b>%{hovertext}</b><br><br>Disciplina=mat<br>candidato=%{x}<br>Nota=%{y}<extra></extra>",
         "hovertext": [
          "Jefferson Hyan Ferreira",
          "Jonas Luís Rockenbach",
          "Jackeline Santos Neves da Silva",
          "Alan Christian Gimenez",
          "Naylor Moreira Batista",
          "Elisangela Pacheco da Silva",
          "Yukiko Sakomoto Belem",
          "Felipe Pfeffer",
          "Thais Nicoletti Silva",
          "Allan Sorrilha Meira Barros",
          "Vanessa Carvalho Fenelon",
          "Bruna Barbara Polizer",
          "Mateus Henrique Aparecido Primilla",
          "Pedro Henrique de Souza Marques",
          "Renan Constantino Colli",
          "Robson dos Santos Mendonça",
          "Gabriel Weber Maximowski"
         ],
         "legendgroup": "mat",
         "marker": {
          "color": "#EF553B",
          "pattern": {
           "shape": ""
          }
         },
         "name": "mat",
         "offsetgroup": "mat",
         "orientation": "v",
         "showlegend": true,
         "textposition": "auto",
         "type": "bar",
         "x": [
          "Jefferson Hyan Ferreira",
          "Jonas Luís Rockenbach",
          "Jackeline Santos Neves da Silva",
          "Alan Christian Gimenez",
          "Naylor Moreira Batista",
          "Elisangela Pacheco da Silva",
          "Yukiko Sakomoto Belem",
          "Felipe Pfeffer",
          "Thais Nicoletti Silva",
          "Allan Sorrilha Meira Barros",
          "Vanessa Carvalho Fenelon",
          "Bruna Barbara Polizer",
          "Mateus Henrique Aparecido Primilla",
          "Pedro Henrique de Souza Marques",
          "Renan Constantino Colli",
          "Robson dos Santos Mendonça",
          "Gabriel Weber Maximowski"
         ],
         "xaxis": "x",
         "y": [
          1.25,
          1.25,
          0.75,
          1.25,
          0.75,
          0.5,
          0.5,
          1,
          1,
          1.25,
          1.25,
          1,
          0.5,
          1,
          1,
          1,
          0.75
         ],
         "yaxis": "y"
        },
        {
         "alignmentgroup": "True",
         "hovertemplate": "<b>%{hovertext}</b><br><br>Disciplina=inf<br>candidato=%{x}<br>Nota=%{y}<extra></extra>",
         "hovertext": [
          "Jefferson Hyan Ferreira",
          "Jonas Luís Rockenbach",
          "Jackeline Santos Neves da Silva",
          "Alan Christian Gimenez",
          "Naylor Moreira Batista",
          "Elisangela Pacheco da Silva",
          "Yukiko Sakomoto Belem",
          "Felipe Pfeffer",
          "Thais Nicoletti Silva",
          "Allan Sorrilha Meira Barros",
          "Vanessa Carvalho Fenelon",
          "Bruna Barbara Polizer",
          "Mateus Henrique Aparecido Primilla",
          "Pedro Henrique de Souza Marques",
          "Renan Constantino Colli",
          "Robson dos Santos Mendonça",
          "Gabriel Weber Maximowski"
         ],
         "legendgroup": "inf",
         "marker": {
          "color": "#00cc96",
          "pattern": {
           "shape": ""
          }
         },
         "name": "inf",
         "offsetgroup": "inf",
         "orientation": "v",
         "showlegend": true,
         "textposition": "auto",
         "type": "bar",
         "x": [
          "Jefferson Hyan Ferreira",
          "Jonas Luís Rockenbach",
          "Jackeline Santos Neves da Silva",
          "Alan Christian Gimenez",
          "Naylor Moreira Batista",
          "Elisangela Pacheco da Silva",
          "Yukiko Sakomoto Belem",
          "Felipe Pfeffer",
          "Thais Nicoletti Silva",
          "Allan Sorrilha Meira Barros",
          "Vanessa Carvalho Fenelon",
          "Bruna Barbara Polizer",
          "Mateus Henrique Aparecido Primilla",
          "Pedro Henrique de Souza Marques",
          "Renan Constantino Colli",
          "Robson dos Santos Mendonça",
          "Gabriel Weber Maximowski"
         ],
         "xaxis": "x",
         "y": [
          1,
          1.25,
          1.25,
          1,
          1,
          1.25,
          1.25,
          1,
          1.25,
          1,
          1,
          1.25,
          1.25,
          1,
          1,
          1,
          1.25
         ],
         "yaxis": "y"
        },
        {
         "alignmentgroup": "True",
         "hovertemplate": "<b>%{hovertext}</b><br><br>Disciplina=leg<br>candidato=%{x}<br>Nota=%{y}<extra></extra>",
         "hovertext": [
          "Jefferson Hyan Ferreira",
          "Jonas Luís Rockenbach",
          "Jackeline Santos Neves da Silva",
          "Alan Christian Gimenez",
          "Naylor Moreira Batista",
          "Elisangela Pacheco da Silva",
          "Yukiko Sakomoto Belem",
          "Felipe Pfeffer",
          "Thais Nicoletti Silva",
          "Allan Sorrilha Meira Barros",
          "Vanessa Carvalho Fenelon",
          "Bruna Barbara Polizer",
          "Mateus Henrique Aparecido Primilla",
          "Pedro Henrique de Souza Marques",
          "Renan Constantino Colli",
          "Robson dos Santos Mendonça",
          "Gabriel Weber Maximowski"
         ],
         "legendgroup": "leg",
         "marker": {
          "color": "#ab63fa",
          "pattern": {
           "shape": ""
          }
         },
         "name": "leg",
         "offsetgroup": "leg",
         "orientation": "v",
         "showlegend": true,
         "textposition": "auto",
         "type": "bar",
         "x": [
          "Jefferson Hyan Ferreira",
          "Jonas Luís Rockenbach",
          "Jackeline Santos Neves da Silva",
          "Alan Christian Gimenez",
          "Naylor Moreira Batista",
          "Elisangela Pacheco da Silva",
          "Yukiko Sakomoto Belem",
          "Felipe Pfeffer",
          "Thais Nicoletti Silva",
          "Allan Sorrilha Meira Barros",
          "Vanessa Carvalho Fenelon",
          "Bruna Barbara Polizer",
          "Mateus Henrique Aparecido Primilla",
          "Pedro Henrique de Souza Marques",
          "Renan Constantino Colli",
          "Robson dos Santos Mendonça",
          "Gabriel Weber Maximowski"
         ],
         "xaxis": "x",
         "y": [
          1.75,
          1.75,
          2,
          1.75,
          2,
          2,
          2,
          1.75,
          1.5,
          1.75,
          1.75,
          1.75,
          2,
          1.5,
          1.5,
          1.5,
          1.5
         ],
         "yaxis": "y"
        },
        {
         "alignmentgroup": "True",
         "hovertemplate": "<b>%{hovertext}</b><br><br>Disciplina=eca<br>candidato=%{x}<br>Nota=%{y}<extra></extra>",
         "hovertext": [
          "Jefferson Hyan Ferreira",
          "Jonas Luís Rockenbach",
          "Jackeline Santos Neves da Silva",
          "Alan Christian Gimenez",
          "Naylor Moreira Batista",
          "Elisangela Pacheco da Silva",
          "Yukiko Sakomoto Belem",
          "Felipe Pfeffer",
          "Thais Nicoletti Silva",
          "Allan Sorrilha Meira Barros",
          "Vanessa Carvalho Fenelon",
          "Bruna Barbara Polizer",
          "Mateus Henrique Aparecido Primilla",
          "Pedro Henrique de Souza Marques",
          "Renan Constantino Colli",
          "Robson dos Santos Mendonça",
          "Gabriel Weber Maximowski"
         ],
         "legendgroup": "eca",
         "marker": {
          "color": "#FFA15A",
          "pattern": {
           "shape": ""
          }
         },
         "name": "eca",
         "offsetgroup": "eca",
         "orientation": "v",
         "showlegend": true,
         "textposition": "auto",
         "type": "bar",
         "x": [
          "Jefferson Hyan Ferreira",
          "Jonas Luís Rockenbach",
          "Jackeline Santos Neves da Silva",
          "Alan Christian Gimenez",
          "Naylor Moreira Batista",
          "Elisangela Pacheco da Silva",
          "Yukiko Sakomoto Belem",
          "Felipe Pfeffer",
          "Thais Nicoletti Silva",
          "Allan Sorrilha Meira Barros",
          "Vanessa Carvalho Fenelon",
          "Bruna Barbara Polizer",
          "Mateus Henrique Aparecido Primilla",
          "Pedro Henrique de Souza Marques",
          "Renan Constantino Colli",
          "Robson dos Santos Mendonça",
          "Gabriel Weber Maximowski"
         ],
         "xaxis": "x",
         "y": [
          0.5,
          0.5,
          0.5,
          0.5,
          0.5,
          0.5,
          0.5,
          0.5,
          0.5,
          0.5,
          0.5,
          0.5,
          0.25,
          0.5,
          0.5,
          0.5,
          0.5
         ],
         "yaxis": "y"
        }
       ],
       "layout": {
        "barmode": "relative",
        "legend": {
         "title": {
          "text": "Disciplina"
         },
         "tracegroupgap": 0
        },
        "margin": {
         "b": 20,
         "l": 50,
         "r": 20,
         "t": 40
        },
        "template": {
         "data": {
          "bar": [
           {
            "error_x": {
             "color": "#2a3f5f"
            },
            "error_y": {
             "color": "#2a3f5f"
            },
            "marker": {
             "line": {
              "color": "#E5ECF6",
              "width": 0.5
             },
             "pattern": {
              "fillmode": "overlay",
              "size": 10,
              "solidity": 0.2
             }
            },
            "type": "bar"
           }
          ],
          "barpolar": [
           {
            "marker": {
             "line": {
              "color": "#E5ECF6",
              "width": 0.5
             },
             "pattern": {
              "fillmode": "overlay",
              "size": 10,
              "solidity": 0.2
             }
            },
            "type": "barpolar"
           }
          ],
          "carpet": [
           {
            "aaxis": {
             "endlinecolor": "#2a3f5f",
             "gridcolor": "white",
             "linecolor": "white",
             "minorgridcolor": "white",
             "startlinecolor": "#2a3f5f"
            },
            "baxis": {
             "endlinecolor": "#2a3f5f",
             "gridcolor": "white",
             "linecolor": "white",
             "minorgridcolor": "white",
             "startlinecolor": "#2a3f5f"
            },
            "type": "carpet"
           }
          ],
          "choropleth": [
           {
            "colorbar": {
             "outlinewidth": 0,
             "ticks": ""
            },
            "type": "choropleth"
           }
          ],
          "contour": [
           {
            "colorbar": {
             "outlinewidth": 0,
             "ticks": ""
            },
            "colorscale": [
             [
              0,
              "#0d0887"
             ],
             [
              0.1111111111111111,
              "#46039f"
             ],
             [
              0.2222222222222222,
              "#7201a8"
             ],
             [
              0.3333333333333333,
              "#9c179e"
             ],
             [
              0.4444444444444444,
              "#bd3786"
             ],
             [
              0.5555555555555556,
              "#d8576b"
             ],
             [
              0.6666666666666666,
              "#ed7953"
             ],
             [
              0.7777777777777778,
              "#fb9f3a"
             ],
             [
              0.8888888888888888,
              "#fdca26"
             ],
             [
              1,
              "#f0f921"
             ]
            ],
            "type": "contour"
           }
          ],
          "contourcarpet": [
           {
            "colorbar": {
             "outlinewidth": 0,
             "ticks": ""
            },
            "type": "contourcarpet"
           }
          ],
          "heatmap": [
           {
            "colorbar": {
             "outlinewidth": 0,
             "ticks": ""
            },
            "colorscale": [
             [
              0,
              "#0d0887"
             ],
             [
              0.1111111111111111,
              "#46039f"
             ],
             [
              0.2222222222222222,
              "#7201a8"
             ],
             [
              0.3333333333333333,
              "#9c179e"
             ],
             [
              0.4444444444444444,
              "#bd3786"
             ],
             [
              0.5555555555555556,
              "#d8576b"
             ],
             [
              0.6666666666666666,
              "#ed7953"
             ],
             [
              0.7777777777777778,
              "#fb9f3a"
             ],
             [
              0.8888888888888888,
              "#fdca26"
             ],
             [
              1,
              "#f0f921"
             ]
            ],
            "type": "heatmap"
           }
          ],
          "heatmapgl": [
           {
            "colorbar": {
             "outlinewidth": 0,
             "ticks": ""
            },
            "colorscale": [
             [
              0,
              "#0d0887"
             ],
             [
              0.1111111111111111,
              "#46039f"
             ],
             [
              0.2222222222222222,
              "#7201a8"
             ],
             [
              0.3333333333333333,
              "#9c179e"
             ],
             [
              0.4444444444444444,
              "#bd3786"
             ],
             [
              0.5555555555555556,
              "#d8576b"
             ],
             [
              0.6666666666666666,
              "#ed7953"
             ],
             [
              0.7777777777777778,
              "#fb9f3a"
             ],
             [
              0.8888888888888888,
              "#fdca26"
             ],
             [
              1,
              "#f0f921"
             ]
            ],
            "type": "heatmapgl"
           }
          ],
          "histogram": [
           {
            "marker": {
             "pattern": {
              "fillmode": "overlay",
              "size": 10,
              "solidity": 0.2
             }
            },
            "type": "histogram"
           }
          ],
          "histogram2d": [
           {
            "colorbar": {
             "outlinewidth": 0,
             "ticks": ""
            },
            "colorscale": [
             [
              0,
              "#0d0887"
             ],
             [
              0.1111111111111111,
              "#46039f"
             ],
             [
              0.2222222222222222,
              "#7201a8"
             ],
             [
              0.3333333333333333,
              "#9c179e"
             ],
             [
              0.4444444444444444,
              "#bd3786"
             ],
             [
              0.5555555555555556,
              "#d8576b"
             ],
             [
              0.6666666666666666,
              "#ed7953"
             ],
             [
              0.7777777777777778,
              "#fb9f3a"
             ],
             [
              0.8888888888888888,
              "#fdca26"
             ],
             [
              1,
              "#f0f921"
             ]
            ],
            "type": "histogram2d"
           }
          ],
          "histogram2dcontour": [
           {
            "colorbar": {
             "outlinewidth": 0,
             "ticks": ""
            },
            "colorscale": [
             [
              0,
              "#0d0887"
             ],
             [
              0.1111111111111111,
              "#46039f"
             ],
             [
              0.2222222222222222,
              "#7201a8"
             ],
             [
              0.3333333333333333,
              "#9c179e"
             ],
             [
              0.4444444444444444,
              "#bd3786"
             ],
             [
              0.5555555555555556,
              "#d8576b"
             ],
             [
              0.6666666666666666,
              "#ed7953"
             ],
             [
              0.7777777777777778,
              "#fb9f3a"
             ],
             [
              0.8888888888888888,
              "#fdca26"
             ],
             [
              1,
              "#f0f921"
             ]
            ],
            "type": "histogram2dcontour"
           }
          ],
          "mesh3d": [
           {
            "colorbar": {
             "outlinewidth": 0,
             "ticks": ""
            },
            "type": "mesh3d"
           }
          ],
          "parcoords": [
           {
            "line": {
             "colorbar": {
              "outlinewidth": 0,
              "ticks": ""
             }
            },
            "type": "parcoords"
           }
          ],
          "pie": [
           {
            "automargin": true,
            "type": "pie"
           }
          ],
          "scatter": [
           {
            "fillpattern": {
             "fillmode": "overlay",
             "size": 10,
             "solidity": 0.2
            },
            "type": "scatter"
           }
          ],
          "scatter3d": [
           {
            "line": {
             "colorbar": {
              "outlinewidth": 0,
              "ticks": ""
             }
            },
            "marker": {
             "colorbar": {
              "outlinewidth": 0,
              "ticks": ""
             }
            },
            "type": "scatter3d"
           }
          ],
          "scattercarpet": [
           {
            "marker": {
             "colorbar": {
              "outlinewidth": 0,
              "ticks": ""
             }
            },
            "type": "scattercarpet"
           }
          ],
          "scattergeo": [
           {
            "marker": {
             "colorbar": {
              "outlinewidth": 0,
              "ticks": ""
             }
            },
            "type": "scattergeo"
           }
          ],
          "scattergl": [
           {
            "marker": {
             "colorbar": {
              "outlinewidth": 0,
              "ticks": ""
             }
            },
            "type": "scattergl"
           }
          ],
          "scattermapbox": [
           {
            "marker": {
             "colorbar": {
              "outlinewidth": 0,
              "ticks": ""
             }
            },
            "type": "scattermapbox"
           }
          ],
          "scatterpolar": [
           {
            "marker": {
             "colorbar": {
              "outlinewidth": 0,
              "ticks": ""
             }
            },
            "type": "scatterpolar"
           }
          ],
          "scatterpolargl": [
           {
            "marker": {
             "colorbar": {
              "outlinewidth": 0,
              "ticks": ""
             }
            },
            "type": "scatterpolargl"
           }
          ],
          "scatterternary": [
           {
            "marker": {
             "colorbar": {
              "outlinewidth": 0,
              "ticks": ""
             }
            },
            "type": "scatterternary"
           }
          ],
          "surface": [
           {
            "colorbar": {
             "outlinewidth": 0,
             "ticks": ""
            },
            "colorscale": [
             [
              0,
              "#0d0887"
             ],
             [
              0.1111111111111111,
              "#46039f"
             ],
             [
              0.2222222222222222,
              "#7201a8"
             ],
             [
              0.3333333333333333,
              "#9c179e"
             ],
             [
              0.4444444444444444,
              "#bd3786"
             ],
             [
              0.5555555555555556,
              "#d8576b"
             ],
             [
              0.6666666666666666,
              "#ed7953"
             ],
             [
              0.7777777777777778,
              "#fb9f3a"
             ],
             [
              0.8888888888888888,
              "#fdca26"
             ],
             [
              1,
              "#f0f921"
             ]
            ],
            "type": "surface"
           }
          ],
          "table": [
           {
            "cells": {
             "fill": {
              "color": "#EBF0F8"
             },
             "line": {
              "color": "white"
             }
            },
            "header": {
             "fill": {
              "color": "#C8D4E3"
             },
             "line": {
              "color": "white"
             }
            },
            "type": "table"
           }
          ]
         },
         "layout": {
          "annotationdefaults": {
           "arrowcolor": "#2a3f5f",
           "arrowhead": 0,
           "arrowwidth": 1
          },
          "autotypenumbers": "strict",
          "coloraxis": {
           "colorbar": {
            "outlinewidth": 0,
            "ticks": ""
           }
          },
          "colorscale": {
           "diverging": [
            [
             0,
             "#8e0152"
            ],
            [
             0.1,
             "#c51b7d"
            ],
            [
             0.2,
             "#de77ae"
            ],
            [
             0.3,
             "#f1b6da"
            ],
            [
             0.4,
             "#fde0ef"
            ],
            [
             0.5,
             "#f7f7f7"
            ],
            [
             0.6,
             "#e6f5d0"
            ],
            [
             0.7,
             "#b8e186"
            ],
            [
             0.8,
             "#7fbc41"
            ],
            [
             0.9,
             "#4d9221"
            ],
            [
             1,
             "#276419"
            ]
           ],
           "sequential": [
            [
             0,
             "#0d0887"
            ],
            [
             0.1111111111111111,
             "#46039f"
            ],
            [
             0.2222222222222222,
             "#7201a8"
            ],
            [
             0.3333333333333333,
             "#9c179e"
            ],
            [
             0.4444444444444444,
             "#bd3786"
            ],
            [
             0.5555555555555556,
             "#d8576b"
            ],
            [
             0.6666666666666666,
             "#ed7953"
            ],
            [
             0.7777777777777778,
             "#fb9f3a"
            ],
            [
             0.8888888888888888,
             "#fdca26"
            ],
            [
             1,
             "#f0f921"
            ]
           ],
           "sequentialminus": [
            [
             0,
             "#0d0887"
            ],
            [
             0.1111111111111111,
             "#46039f"
            ],
            [
             0.2222222222222222,
             "#7201a8"
            ],
            [
             0.3333333333333333,
             "#9c179e"
            ],
            [
             0.4444444444444444,
             "#bd3786"
            ],
            [
             0.5555555555555556,
             "#d8576b"
            ],
            [
             0.6666666666666666,
             "#ed7953"
            ],
            [
             0.7777777777777778,
             "#fb9f3a"
            ],
            [
             0.8888888888888888,
             "#fdca26"
            ],
            [
             1,
             "#f0f921"
            ]
           ]
          },
          "colorway": [
           "#636efa",
           "#EF553B",
           "#00cc96",
           "#ab63fa",
           "#FFA15A",
           "#19d3f3",
           "#FF6692",
           "#B6E880",
           "#FF97FF",
           "#FECB52"
          ],
          "font": {
           "color": "#2a3f5f"
          },
          "geo": {
           "bgcolor": "white",
           "lakecolor": "white",
           "landcolor": "#E5ECF6",
           "showlakes": true,
           "showland": true,
           "subunitcolor": "white"
          },
          "hoverlabel": {
           "align": "left"
          },
          "hovermode": "closest",
          "mapbox": {
           "style": "light"
          },
          "paper_bgcolor": "white",
          "plot_bgcolor": "#E5ECF6",
          "polar": {
           "angularaxis": {
            "gridcolor": "white",
            "linecolor": "white",
            "ticks": ""
           },
           "bgcolor": "#E5ECF6",
           "radialaxis": {
            "gridcolor": "white",
            "linecolor": "white",
            "ticks": ""
           }
          },
          "scene": {
           "xaxis": {
            "backgroundcolor": "#E5ECF6",
            "gridcolor": "white",
            "gridwidth": 2,
            "linecolor": "white",
            "showbackground": true,
            "ticks": "",
            "zerolinecolor": "white"
           },
           "yaxis": {
            "backgroundcolor": "#E5ECF6",
            "gridcolor": "white",
            "gridwidth": 2,
            "linecolor": "white",
            "showbackground": true,
            "ticks": "",
            "zerolinecolor": "white"
           },
           "zaxis": {
            "backgroundcolor": "#E5ECF6",
            "gridcolor": "white",
            "gridwidth": 2,
            "linecolor": "white",
            "showbackground": true,
            "ticks": "",
            "zerolinecolor": "white"
           }
          },
          "shapedefaults": {
           "line": {
            "color": "#2a3f5f"
           }
          },
          "ternary": {
           "aaxis": {
            "gridcolor": "white",
            "linecolor": "white",
            "ticks": ""
           },
           "baxis": {
            "gridcolor": "white",
            "linecolor": "white",
            "ticks": ""
           },
           "bgcolor": "#E5ECF6",
           "caxis": {
            "gridcolor": "white",
            "linecolor": "white",
            "ticks": ""
           }
          },
          "title": {
           "x": 0.05
          },
          "xaxis": {
           "automargin": true,
           "gridcolor": "white",
           "linecolor": "white",
           "ticks": "",
           "title": {
            "standoff": 15
           },
           "zerolinecolor": "white",
           "zerolinewidth": 2
          },
          "yaxis": {
           "automargin": true,
           "gridcolor": "white",
           "linecolor": "white",
           "ticks": "",
           "title": {
            "standoff": 15
           },
           "zerolinecolor": "white",
           "zerolinewidth": 2
          }
         }
        },
        "title": {
         "text": "Comparação do desempenho por matéria dos Top 17 candidatos"
        },
        "xaxis": {
         "anchor": "y",
         "domain": [
          0,
          1
         ],
         "title": {
          "text": "Aluno"
         }
        },
        "yaxis": {
         "anchor": "x",
         "domain": [
          0,
          1
         ],
         "title": {
          "text": "Nota"
         },
         "visible": false
        }
       }
      }
     },
     "metadata": {},
     "output_type": "display_data"
    }
   ],
   "source": [
    "def create_bar_chart(df, title, user_index=None, user_name=None):\n",
    "    # Selecionar as 17 primeiras linhas do DataFrame resultante\n",
    "    df_top_17 = df.head(17).copy()\n",
    "\n",
    "    # Adicionar uma linha para representar o desempenho do usuário, se aplicável\n",
    "    if user_index is not None:\n",
    "        df_user = df[df.index == user_index].copy()\n",
    "        df_user['candidato'] = user_name\n",
    "        df_combined = pd.concat([df_top_17, df_user])\n",
    "    else:\n",
    "        df_combined = df_top_17\n",
    "\n",
    "    # Criar um gráfico interativo com plotly\n",
    "    fig = px.bar(\n",
    "        df_combined,\n",
    "        x='candidato',\n",
    "        y=['port', 'mat', 'inf', 'leg', 'eca'],\n",
    "        title=title,\n",
    "        labels={'value': 'Nota', 'variable': 'Disciplina'},\n",
    "        hover_name='candidato',\n",
    "        template='plotly',\n",
    "    )\n",
    "\n",
    "    # Adicionar rótulos e título\n",
    "    fig.update_layout(\n",
    "        xaxis_title='Aluno',\n",
    "        yaxis_title='Nota',\n",
    "        yaxis=dict(visible=False)  # Esconde o eixo y\n",
    "    )\n",
    "\n",
    "    # Ajustar o tamanho do quadro lateral\n",
    "    fig.update_layout(\n",
    "        margin=dict(l=50, r=20, t=40, b=20)  # Ajustar as margens\n",
    "    )\n",
    "\n",
    "    # Aumentar a largura da barra do usuário, se aplicável\n",
    "    if user_index is not None:\n",
    "        df_combined.loc[df_combined.index == user_index, 'candidato'] = user_name\n",
    "        fig.update_traces(marker=dict(color='rgba(255, 0, 0, 0.7)'), selector=dict(name=user_name))\n",
    "\n",
    "    # Exibir o gráfico interativo\n",
    "    fig.show()\n",
    "\n",
    "# Exibir o primeiro gráfico\n",
    "create_bar_chart(df_top_17, 'Comparação do desempenho por matéria dos Top 17 candidatos')\n"
   ]
  },
  {
   "cell_type": "markdown",
   "metadata": {},
   "source": [
    "Vamos ver em que posição eu fiquei na lista após os critérios de desempate serem aplicados:"
   ]
  },
  {
   "cell_type": "code",
   "execution_count": 21,
   "metadata": {},
   "outputs": [
    {
     "data": {
      "text/html": [
       "<div>\n",
       "<style scoped>\n",
       "    .dataframe tbody tr th:only-of-type {\n",
       "        vertical-align: middle;\n",
       "    }\n",
       "\n",
       "    .dataframe tbody tr th {\n",
       "        vertical-align: top;\n",
       "    }\n",
       "\n",
       "    .dataframe thead th {\n",
       "        text-align: right;\n",
       "    }\n",
       "</style>\n",
       "<table border=\"1\" class=\"dataframe\">\n",
       "  <thead>\n",
       "    <tr style=\"text-align: right;\">\n",
       "      <th></th>\n",
       "      <th>candidato</th>\n",
       "      <th>port</th>\n",
       "      <th>mat</th>\n",
       "      <th>inf</th>\n",
       "      <th>leg</th>\n",
       "      <th>eca</th>\n",
       "      <th>nota_final</th>\n",
       "    </tr>\n",
       "    <tr>\n",
       "      <th>colocacao_preliminar</th>\n",
       "      <th></th>\n",
       "      <th></th>\n",
       "      <th></th>\n",
       "      <th></th>\n",
       "      <th></th>\n",
       "      <th></th>\n",
       "      <th></th>\n",
       "    </tr>\n",
       "  </thead>\n",
       "  <tbody>\n",
       "    <tr>\n",
       "      <th>63</th>\n",
       "      <td>Jeanco Mateus de Oliveira Volfe</td>\n",
       "      <td>3.5</td>\n",
       "      <td>0.75</td>\n",
       "      <td>1.25</td>\n",
       "      <td>2.0</td>\n",
       "      <td>0.5</td>\n",
       "      <td>8.0</td>\n",
       "    </tr>\n",
       "  </tbody>\n",
       "</table>\n",
       "</div>"
      ],
      "text/plain": [
       "                                            candidato  port   mat   inf  leg  \\\n",
       "colocacao_preliminar                                                           \n",
       "63                    Jeanco Mateus de Oliveira Volfe   3.5  0.75  1.25  2.0   \n",
       "\n",
       "                      eca  nota_final  \n",
       "colocacao_preliminar                   \n",
       "63                    0.5         8.0  "
      ]
     },
     "execution_count": 21,
     "metadata": {},
     "output_type": "execute_result"
    }
   ],
   "source": [
    "df_final_result[df_final_result['candidato'] == 'Jeanco Mateus de Oliveira Volfe']"
   ]
  },
  {
   "cell_type": "markdown",
   "metadata": {},
   "source": [
    "Minha colocação preliminar é 63.\n",
    "\n",
    "Agora quero colocar também meu desempenho ao lado da galera que ficou no topo, não vai ser algo muito feliz de se fazer, maaas... hehe\n",
    "Aí vai, **A ÚLTIMA COLUNA DO GRÁFICO** representa meu desempenho"
   ]
  },
  {
   "cell_type": "code",
   "execution_count": 22,
   "metadata": {},
   "outputs": [
    {
     "data": {
      "application/vnd.plotly.v1+json": {
       "config": {
        "plotlyServerURL": "https://plot.ly"
       },
       "data": [
        {
         "alignmentgroup": "True",
         "hovertemplate": "<b>%{hovertext}</b><br><br>Disciplina=port<br>candidato=%{x}<br>Nota=%{y}<extra></extra>",
         "hovertext": [
          "Jefferson Hyan Ferreira",
          "Jonas Luís Rockenbach",
          "Jackeline Santos Neves da Silva",
          "Alan Christian Gimenez",
          "Naylor Moreira Batista",
          "Elisangela Pacheco da Silva",
          "Yukiko Sakomoto Belem",
          "Felipe Pfeffer",
          "Thais Nicoletti Silva",
          "Allan Sorrilha Meira Barros",
          "Vanessa Carvalho Fenelon",
          "Bruna Barbara Polizer",
          "Mateus Henrique Aparecido Primilla",
          "Pedro Henrique de Souza Marques",
          "Renan Constantino Colli",
          "Robson dos Santos Mendonça",
          "Gabriel Weber Maximowski",
          "Jeanco Mateus de Oliveira Volfe"
         ],
         "legendgroup": "port",
         "marker": {
          "color": "#636efa",
          "pattern": {
           "shape": ""
          }
         },
         "name": "port",
         "offsetgroup": "port",
         "orientation": "v",
         "showlegend": true,
         "textposition": "auto",
         "type": "bar",
         "x": [
          "Jefferson Hyan Ferreira",
          "Jonas Luís Rockenbach",
          "Jackeline Santos Neves da Silva",
          "Alan Christian Gimenez",
          "Naylor Moreira Batista",
          "Elisangela Pacheco da Silva",
          "Yukiko Sakomoto Belem",
          "Felipe Pfeffer",
          "Thais Nicoletti Silva",
          "Allan Sorrilha Meira Barros",
          "Vanessa Carvalho Fenelon",
          "Bruna Barbara Polizer",
          "Mateus Henrique Aparecido Primilla",
          "Pedro Henrique de Souza Marques",
          "Renan Constantino Colli",
          "Robson dos Santos Mendonça",
          "Gabriel Weber Maximowski",
          "Jeanco Mateus de Oliveira Volfe"
         ],
         "xaxis": "x",
         "y": [
          4.5,
          4.25,
          4.25,
          4.25,
          4.25,
          4.25,
          4.25,
          4.25,
          4.25,
          4,
          4,
          4,
          4.25,
          4.25,
          4.25,
          4.25,
          4.25,
          3.5
         ],
         "yaxis": "y"
        },
        {
         "alignmentgroup": "True",
         "hovertemplate": "<b>%{hovertext}</b><br><br>Disciplina=mat<br>candidato=%{x}<br>Nota=%{y}<extra></extra>",
         "hovertext": [
          "Jefferson Hyan Ferreira",
          "Jonas Luís Rockenbach",
          "Jackeline Santos Neves da Silva",
          "Alan Christian Gimenez",
          "Naylor Moreira Batista",
          "Elisangela Pacheco da Silva",
          "Yukiko Sakomoto Belem",
          "Felipe Pfeffer",
          "Thais Nicoletti Silva",
          "Allan Sorrilha Meira Barros",
          "Vanessa Carvalho Fenelon",
          "Bruna Barbara Polizer",
          "Mateus Henrique Aparecido Primilla",
          "Pedro Henrique de Souza Marques",
          "Renan Constantino Colli",
          "Robson dos Santos Mendonça",
          "Gabriel Weber Maximowski",
          "Jeanco Mateus de Oliveira Volfe"
         ],
         "legendgroup": "mat",
         "marker": {
          "color": "#EF553B",
          "pattern": {
           "shape": ""
          }
         },
         "name": "mat",
         "offsetgroup": "mat",
         "orientation": "v",
         "showlegend": true,
         "textposition": "auto",
         "type": "bar",
         "x": [
          "Jefferson Hyan Ferreira",
          "Jonas Luís Rockenbach",
          "Jackeline Santos Neves da Silva",
          "Alan Christian Gimenez",
          "Naylor Moreira Batista",
          "Elisangela Pacheco da Silva",
          "Yukiko Sakomoto Belem",
          "Felipe Pfeffer",
          "Thais Nicoletti Silva",
          "Allan Sorrilha Meira Barros",
          "Vanessa Carvalho Fenelon",
          "Bruna Barbara Polizer",
          "Mateus Henrique Aparecido Primilla",
          "Pedro Henrique de Souza Marques",
          "Renan Constantino Colli",
          "Robson dos Santos Mendonça",
          "Gabriel Weber Maximowski",
          "Jeanco Mateus de Oliveira Volfe"
         ],
         "xaxis": "x",
         "y": [
          1.25,
          1.25,
          0.75,
          1.25,
          0.75,
          0.5,
          0.5,
          1,
          1,
          1.25,
          1.25,
          1,
          0.5,
          1,
          1,
          1,
          0.75,
          0.75
         ],
         "yaxis": "y"
        },
        {
         "alignmentgroup": "True",
         "hovertemplate": "<b>%{hovertext}</b><br><br>Disciplina=inf<br>candidato=%{x}<br>Nota=%{y}<extra></extra>",
         "hovertext": [
          "Jefferson Hyan Ferreira",
          "Jonas Luís Rockenbach",
          "Jackeline Santos Neves da Silva",
          "Alan Christian Gimenez",
          "Naylor Moreira Batista",
          "Elisangela Pacheco da Silva",
          "Yukiko Sakomoto Belem",
          "Felipe Pfeffer",
          "Thais Nicoletti Silva",
          "Allan Sorrilha Meira Barros",
          "Vanessa Carvalho Fenelon",
          "Bruna Barbara Polizer",
          "Mateus Henrique Aparecido Primilla",
          "Pedro Henrique de Souza Marques",
          "Renan Constantino Colli",
          "Robson dos Santos Mendonça",
          "Gabriel Weber Maximowski",
          "Jeanco Mateus de Oliveira Volfe"
         ],
         "legendgroup": "inf",
         "marker": {
          "color": "#00cc96",
          "pattern": {
           "shape": ""
          }
         },
         "name": "inf",
         "offsetgroup": "inf",
         "orientation": "v",
         "showlegend": true,
         "textposition": "auto",
         "type": "bar",
         "x": [
          "Jefferson Hyan Ferreira",
          "Jonas Luís Rockenbach",
          "Jackeline Santos Neves da Silva",
          "Alan Christian Gimenez",
          "Naylor Moreira Batista",
          "Elisangela Pacheco da Silva",
          "Yukiko Sakomoto Belem",
          "Felipe Pfeffer",
          "Thais Nicoletti Silva",
          "Allan Sorrilha Meira Barros",
          "Vanessa Carvalho Fenelon",
          "Bruna Barbara Polizer",
          "Mateus Henrique Aparecido Primilla",
          "Pedro Henrique de Souza Marques",
          "Renan Constantino Colli",
          "Robson dos Santos Mendonça",
          "Gabriel Weber Maximowski",
          "Jeanco Mateus de Oliveira Volfe"
         ],
         "xaxis": "x",
         "y": [
          1,
          1.25,
          1.25,
          1,
          1,
          1.25,
          1.25,
          1,
          1.25,
          1,
          1,
          1.25,
          1.25,
          1,
          1,
          1,
          1.25,
          1.25
         ],
         "yaxis": "y"
        },
        {
         "alignmentgroup": "True",
         "hovertemplate": "<b>%{hovertext}</b><br><br>Disciplina=leg<br>candidato=%{x}<br>Nota=%{y}<extra></extra>",
         "hovertext": [
          "Jefferson Hyan Ferreira",
          "Jonas Luís Rockenbach",
          "Jackeline Santos Neves da Silva",
          "Alan Christian Gimenez",
          "Naylor Moreira Batista",
          "Elisangela Pacheco da Silva",
          "Yukiko Sakomoto Belem",
          "Felipe Pfeffer",
          "Thais Nicoletti Silva",
          "Allan Sorrilha Meira Barros",
          "Vanessa Carvalho Fenelon",
          "Bruna Barbara Polizer",
          "Mateus Henrique Aparecido Primilla",
          "Pedro Henrique de Souza Marques",
          "Renan Constantino Colli",
          "Robson dos Santos Mendonça",
          "Gabriel Weber Maximowski",
          "Jeanco Mateus de Oliveira Volfe"
         ],
         "legendgroup": "leg",
         "marker": {
          "color": "#ab63fa",
          "pattern": {
           "shape": ""
          }
         },
         "name": "leg",
         "offsetgroup": "leg",
         "orientation": "v",
         "showlegend": true,
         "textposition": "auto",
         "type": "bar",
         "x": [
          "Jefferson Hyan Ferreira",
          "Jonas Luís Rockenbach",
          "Jackeline Santos Neves da Silva",
          "Alan Christian Gimenez",
          "Naylor Moreira Batista",
          "Elisangela Pacheco da Silva",
          "Yukiko Sakomoto Belem",
          "Felipe Pfeffer",
          "Thais Nicoletti Silva",
          "Allan Sorrilha Meira Barros",
          "Vanessa Carvalho Fenelon",
          "Bruna Barbara Polizer",
          "Mateus Henrique Aparecido Primilla",
          "Pedro Henrique de Souza Marques",
          "Renan Constantino Colli",
          "Robson dos Santos Mendonça",
          "Gabriel Weber Maximowski",
          "Jeanco Mateus de Oliveira Volfe"
         ],
         "xaxis": "x",
         "y": [
          1.75,
          1.75,
          2,
          1.75,
          2,
          2,
          2,
          1.75,
          1.5,
          1.75,
          1.75,
          1.75,
          2,
          1.5,
          1.5,
          1.5,
          1.5,
          2
         ],
         "yaxis": "y"
        },
        {
         "alignmentgroup": "True",
         "hovertemplate": "<b>%{hovertext}</b><br><br>Disciplina=eca<br>candidato=%{x}<br>Nota=%{y}<extra></extra>",
         "hovertext": [
          "Jefferson Hyan Ferreira",
          "Jonas Luís Rockenbach",
          "Jackeline Santos Neves da Silva",
          "Alan Christian Gimenez",
          "Naylor Moreira Batista",
          "Elisangela Pacheco da Silva",
          "Yukiko Sakomoto Belem",
          "Felipe Pfeffer",
          "Thais Nicoletti Silva",
          "Allan Sorrilha Meira Barros",
          "Vanessa Carvalho Fenelon",
          "Bruna Barbara Polizer",
          "Mateus Henrique Aparecido Primilla",
          "Pedro Henrique de Souza Marques",
          "Renan Constantino Colli",
          "Robson dos Santos Mendonça",
          "Gabriel Weber Maximowski",
          "Jeanco Mateus de Oliveira Volfe"
         ],
         "legendgroup": "eca",
         "marker": {
          "color": "#FFA15A",
          "pattern": {
           "shape": ""
          }
         },
         "name": "eca",
         "offsetgroup": "eca",
         "orientation": "v",
         "showlegend": true,
         "textposition": "auto",
         "type": "bar",
         "x": [
          "Jefferson Hyan Ferreira",
          "Jonas Luís Rockenbach",
          "Jackeline Santos Neves da Silva",
          "Alan Christian Gimenez",
          "Naylor Moreira Batista",
          "Elisangela Pacheco da Silva",
          "Yukiko Sakomoto Belem",
          "Felipe Pfeffer",
          "Thais Nicoletti Silva",
          "Allan Sorrilha Meira Barros",
          "Vanessa Carvalho Fenelon",
          "Bruna Barbara Polizer",
          "Mateus Henrique Aparecido Primilla",
          "Pedro Henrique de Souza Marques",
          "Renan Constantino Colli",
          "Robson dos Santos Mendonça",
          "Gabriel Weber Maximowski",
          "Jeanco Mateus de Oliveira Volfe"
         ],
         "xaxis": "x",
         "y": [
          0.5,
          0.5,
          0.5,
          0.5,
          0.5,
          0.5,
          0.5,
          0.5,
          0.5,
          0.5,
          0.5,
          0.5,
          0.25,
          0.5,
          0.5,
          0.5,
          0.5,
          0.5
         ],
         "yaxis": "y"
        }
       ],
       "layout": {
        "barmode": "relative",
        "legend": {
         "title": {
          "text": "Disciplina"
         },
         "tracegroupgap": 0
        },
        "margin": {
         "b": 20,
         "l": 50,
         "r": 20,
         "t": 40
        },
        "template": {
         "data": {
          "bar": [
           {
            "error_x": {
             "color": "#2a3f5f"
            },
            "error_y": {
             "color": "#2a3f5f"
            },
            "marker": {
             "line": {
              "color": "#E5ECF6",
              "width": 0.5
             },
             "pattern": {
              "fillmode": "overlay",
              "size": 10,
              "solidity": 0.2
             }
            },
            "type": "bar"
           }
          ],
          "barpolar": [
           {
            "marker": {
             "line": {
              "color": "#E5ECF6",
              "width": 0.5
             },
             "pattern": {
              "fillmode": "overlay",
              "size": 10,
              "solidity": 0.2
             }
            },
            "type": "barpolar"
           }
          ],
          "carpet": [
           {
            "aaxis": {
             "endlinecolor": "#2a3f5f",
             "gridcolor": "white",
             "linecolor": "white",
             "minorgridcolor": "white",
             "startlinecolor": "#2a3f5f"
            },
            "baxis": {
             "endlinecolor": "#2a3f5f",
             "gridcolor": "white",
             "linecolor": "white",
             "minorgridcolor": "white",
             "startlinecolor": "#2a3f5f"
            },
            "type": "carpet"
           }
          ],
          "choropleth": [
           {
            "colorbar": {
             "outlinewidth": 0,
             "ticks": ""
            },
            "type": "choropleth"
           }
          ],
          "contour": [
           {
            "colorbar": {
             "outlinewidth": 0,
             "ticks": ""
            },
            "colorscale": [
             [
              0,
              "#0d0887"
             ],
             [
              0.1111111111111111,
              "#46039f"
             ],
             [
              0.2222222222222222,
              "#7201a8"
             ],
             [
              0.3333333333333333,
              "#9c179e"
             ],
             [
              0.4444444444444444,
              "#bd3786"
             ],
             [
              0.5555555555555556,
              "#d8576b"
             ],
             [
              0.6666666666666666,
              "#ed7953"
             ],
             [
              0.7777777777777778,
              "#fb9f3a"
             ],
             [
              0.8888888888888888,
              "#fdca26"
             ],
             [
              1,
              "#f0f921"
             ]
            ],
            "type": "contour"
           }
          ],
          "contourcarpet": [
           {
            "colorbar": {
             "outlinewidth": 0,
             "ticks": ""
            },
            "type": "contourcarpet"
           }
          ],
          "heatmap": [
           {
            "colorbar": {
             "outlinewidth": 0,
             "ticks": ""
            },
            "colorscale": [
             [
              0,
              "#0d0887"
             ],
             [
              0.1111111111111111,
              "#46039f"
             ],
             [
              0.2222222222222222,
              "#7201a8"
             ],
             [
              0.3333333333333333,
              "#9c179e"
             ],
             [
              0.4444444444444444,
              "#bd3786"
             ],
             [
              0.5555555555555556,
              "#d8576b"
             ],
             [
              0.6666666666666666,
              "#ed7953"
             ],
             [
              0.7777777777777778,
              "#fb9f3a"
             ],
             [
              0.8888888888888888,
              "#fdca26"
             ],
             [
              1,
              "#f0f921"
             ]
            ],
            "type": "heatmap"
           }
          ],
          "heatmapgl": [
           {
            "colorbar": {
             "outlinewidth": 0,
             "ticks": ""
            },
            "colorscale": [
             [
              0,
              "#0d0887"
             ],
             [
              0.1111111111111111,
              "#46039f"
             ],
             [
              0.2222222222222222,
              "#7201a8"
             ],
             [
              0.3333333333333333,
              "#9c179e"
             ],
             [
              0.4444444444444444,
              "#bd3786"
             ],
             [
              0.5555555555555556,
              "#d8576b"
             ],
             [
              0.6666666666666666,
              "#ed7953"
             ],
             [
              0.7777777777777778,
              "#fb9f3a"
             ],
             [
              0.8888888888888888,
              "#fdca26"
             ],
             [
              1,
              "#f0f921"
             ]
            ],
            "type": "heatmapgl"
           }
          ],
          "histogram": [
           {
            "marker": {
             "pattern": {
              "fillmode": "overlay",
              "size": 10,
              "solidity": 0.2
             }
            },
            "type": "histogram"
           }
          ],
          "histogram2d": [
           {
            "colorbar": {
             "outlinewidth": 0,
             "ticks": ""
            },
            "colorscale": [
             [
              0,
              "#0d0887"
             ],
             [
              0.1111111111111111,
              "#46039f"
             ],
             [
              0.2222222222222222,
              "#7201a8"
             ],
             [
              0.3333333333333333,
              "#9c179e"
             ],
             [
              0.4444444444444444,
              "#bd3786"
             ],
             [
              0.5555555555555556,
              "#d8576b"
             ],
             [
              0.6666666666666666,
              "#ed7953"
             ],
             [
              0.7777777777777778,
              "#fb9f3a"
             ],
             [
              0.8888888888888888,
              "#fdca26"
             ],
             [
              1,
              "#f0f921"
             ]
            ],
            "type": "histogram2d"
           }
          ],
          "histogram2dcontour": [
           {
            "colorbar": {
             "outlinewidth": 0,
             "ticks": ""
            },
            "colorscale": [
             [
              0,
              "#0d0887"
             ],
             [
              0.1111111111111111,
              "#46039f"
             ],
             [
              0.2222222222222222,
              "#7201a8"
             ],
             [
              0.3333333333333333,
              "#9c179e"
             ],
             [
              0.4444444444444444,
              "#bd3786"
             ],
             [
              0.5555555555555556,
              "#d8576b"
             ],
             [
              0.6666666666666666,
              "#ed7953"
             ],
             [
              0.7777777777777778,
              "#fb9f3a"
             ],
             [
              0.8888888888888888,
              "#fdca26"
             ],
             [
              1,
              "#f0f921"
             ]
            ],
            "type": "histogram2dcontour"
           }
          ],
          "mesh3d": [
           {
            "colorbar": {
             "outlinewidth": 0,
             "ticks": ""
            },
            "type": "mesh3d"
           }
          ],
          "parcoords": [
           {
            "line": {
             "colorbar": {
              "outlinewidth": 0,
              "ticks": ""
             }
            },
            "type": "parcoords"
           }
          ],
          "pie": [
           {
            "automargin": true,
            "type": "pie"
           }
          ],
          "scatter": [
           {
            "fillpattern": {
             "fillmode": "overlay",
             "size": 10,
             "solidity": 0.2
            },
            "type": "scatter"
           }
          ],
          "scatter3d": [
           {
            "line": {
             "colorbar": {
              "outlinewidth": 0,
              "ticks": ""
             }
            },
            "marker": {
             "colorbar": {
              "outlinewidth": 0,
              "ticks": ""
             }
            },
            "type": "scatter3d"
           }
          ],
          "scattercarpet": [
           {
            "marker": {
             "colorbar": {
              "outlinewidth": 0,
              "ticks": ""
             }
            },
            "type": "scattercarpet"
           }
          ],
          "scattergeo": [
           {
            "marker": {
             "colorbar": {
              "outlinewidth": 0,
              "ticks": ""
             }
            },
            "type": "scattergeo"
           }
          ],
          "scattergl": [
           {
            "marker": {
             "colorbar": {
              "outlinewidth": 0,
              "ticks": ""
             }
            },
            "type": "scattergl"
           }
          ],
          "scattermapbox": [
           {
            "marker": {
             "colorbar": {
              "outlinewidth": 0,
              "ticks": ""
             }
            },
            "type": "scattermapbox"
           }
          ],
          "scatterpolar": [
           {
            "marker": {
             "colorbar": {
              "outlinewidth": 0,
              "ticks": ""
             }
            },
            "type": "scatterpolar"
           }
          ],
          "scatterpolargl": [
           {
            "marker": {
             "colorbar": {
              "outlinewidth": 0,
              "ticks": ""
             }
            },
            "type": "scatterpolargl"
           }
          ],
          "scatterternary": [
           {
            "marker": {
             "colorbar": {
              "outlinewidth": 0,
              "ticks": ""
             }
            },
            "type": "scatterternary"
           }
          ],
          "surface": [
           {
            "colorbar": {
             "outlinewidth": 0,
             "ticks": ""
            },
            "colorscale": [
             [
              0,
              "#0d0887"
             ],
             [
              0.1111111111111111,
              "#46039f"
             ],
             [
              0.2222222222222222,
              "#7201a8"
             ],
             [
              0.3333333333333333,
              "#9c179e"
             ],
             [
              0.4444444444444444,
              "#bd3786"
             ],
             [
              0.5555555555555556,
              "#d8576b"
             ],
             [
              0.6666666666666666,
              "#ed7953"
             ],
             [
              0.7777777777777778,
              "#fb9f3a"
             ],
             [
              0.8888888888888888,
              "#fdca26"
             ],
             [
              1,
              "#f0f921"
             ]
            ],
            "type": "surface"
           }
          ],
          "table": [
           {
            "cells": {
             "fill": {
              "color": "#EBF0F8"
             },
             "line": {
              "color": "white"
             }
            },
            "header": {
             "fill": {
              "color": "#C8D4E3"
             },
             "line": {
              "color": "white"
             }
            },
            "type": "table"
           }
          ]
         },
         "layout": {
          "annotationdefaults": {
           "arrowcolor": "#2a3f5f",
           "arrowhead": 0,
           "arrowwidth": 1
          },
          "autotypenumbers": "strict",
          "coloraxis": {
           "colorbar": {
            "outlinewidth": 0,
            "ticks": ""
           }
          },
          "colorscale": {
           "diverging": [
            [
             0,
             "#8e0152"
            ],
            [
             0.1,
             "#c51b7d"
            ],
            [
             0.2,
             "#de77ae"
            ],
            [
             0.3,
             "#f1b6da"
            ],
            [
             0.4,
             "#fde0ef"
            ],
            [
             0.5,
             "#f7f7f7"
            ],
            [
             0.6,
             "#e6f5d0"
            ],
            [
             0.7,
             "#b8e186"
            ],
            [
             0.8,
             "#7fbc41"
            ],
            [
             0.9,
             "#4d9221"
            ],
            [
             1,
             "#276419"
            ]
           ],
           "sequential": [
            [
             0,
             "#0d0887"
            ],
            [
             0.1111111111111111,
             "#46039f"
            ],
            [
             0.2222222222222222,
             "#7201a8"
            ],
            [
             0.3333333333333333,
             "#9c179e"
            ],
            [
             0.4444444444444444,
             "#bd3786"
            ],
            [
             0.5555555555555556,
             "#d8576b"
            ],
            [
             0.6666666666666666,
             "#ed7953"
            ],
            [
             0.7777777777777778,
             "#fb9f3a"
            ],
            [
             0.8888888888888888,
             "#fdca26"
            ],
            [
             1,
             "#f0f921"
            ]
           ],
           "sequentialminus": [
            [
             0,
             "#0d0887"
            ],
            [
             0.1111111111111111,
             "#46039f"
            ],
            [
             0.2222222222222222,
             "#7201a8"
            ],
            [
             0.3333333333333333,
             "#9c179e"
            ],
            [
             0.4444444444444444,
             "#bd3786"
            ],
            [
             0.5555555555555556,
             "#d8576b"
            ],
            [
             0.6666666666666666,
             "#ed7953"
            ],
            [
             0.7777777777777778,
             "#fb9f3a"
            ],
            [
             0.8888888888888888,
             "#fdca26"
            ],
            [
             1,
             "#f0f921"
            ]
           ]
          },
          "colorway": [
           "#636efa",
           "#EF553B",
           "#00cc96",
           "#ab63fa",
           "#FFA15A",
           "#19d3f3",
           "#FF6692",
           "#B6E880",
           "#FF97FF",
           "#FECB52"
          ],
          "font": {
           "color": "#2a3f5f"
          },
          "geo": {
           "bgcolor": "white",
           "lakecolor": "white",
           "landcolor": "#E5ECF6",
           "showlakes": true,
           "showland": true,
           "subunitcolor": "white"
          },
          "hoverlabel": {
           "align": "left"
          },
          "hovermode": "closest",
          "mapbox": {
           "style": "light"
          },
          "paper_bgcolor": "white",
          "plot_bgcolor": "#E5ECF6",
          "polar": {
           "angularaxis": {
            "gridcolor": "white",
            "linecolor": "white",
            "ticks": ""
           },
           "bgcolor": "#E5ECF6",
           "radialaxis": {
            "gridcolor": "white",
            "linecolor": "white",
            "ticks": ""
           }
          },
          "scene": {
           "xaxis": {
            "backgroundcolor": "#E5ECF6",
            "gridcolor": "white",
            "gridwidth": 2,
            "linecolor": "white",
            "showbackground": true,
            "ticks": "",
            "zerolinecolor": "white"
           },
           "yaxis": {
            "backgroundcolor": "#E5ECF6",
            "gridcolor": "white",
            "gridwidth": 2,
            "linecolor": "white",
            "showbackground": true,
            "ticks": "",
            "zerolinecolor": "white"
           },
           "zaxis": {
            "backgroundcolor": "#E5ECF6",
            "gridcolor": "white",
            "gridwidth": 2,
            "linecolor": "white",
            "showbackground": true,
            "ticks": "",
            "zerolinecolor": "white"
           }
          },
          "shapedefaults": {
           "line": {
            "color": "#2a3f5f"
           }
          },
          "ternary": {
           "aaxis": {
            "gridcolor": "white",
            "linecolor": "white",
            "ticks": ""
           },
           "baxis": {
            "gridcolor": "white",
            "linecolor": "white",
            "ticks": ""
           },
           "bgcolor": "#E5ECF6",
           "caxis": {
            "gridcolor": "white",
            "linecolor": "white",
            "ticks": ""
           }
          },
          "title": {
           "x": 0.05
          },
          "xaxis": {
           "automargin": true,
           "gridcolor": "white",
           "linecolor": "white",
           "ticks": "",
           "title": {
            "standoff": 15
           },
           "zerolinecolor": "white",
           "zerolinewidth": 2
          },
          "yaxis": {
           "automargin": true,
           "gridcolor": "white",
           "linecolor": "white",
           "ticks": "",
           "title": {
            "standoff": 15
           },
           "zerolinecolor": "white",
           "zerolinewidth": 2
          }
         }
        },
        "title": {
         "text": "Notas por Disciplina para os Top 17 Alunos e Meu Desempenho em relação a todos eles"
        },
        "xaxis": {
         "anchor": "y",
         "domain": [
          0,
          1
         ],
         "title": {
          "text": "Aluno"
         }
        },
        "yaxis": {
         "anchor": "x",
         "domain": [
          0,
          1
         ],
         "title": {
          "text": "Nota"
         },
         "visible": false
        }
       }
      }
     },
     "metadata": {},
     "output_type": "display_data"
    }
   ],
   "source": [
    "create_bar_chart(df_final_result, 'Notas por Disciplina para os Top 17 Alunos e Meu Desempenho em relação a todos eles', user_index=63, user_name='Jeanco Mateus de Oliveira Volfe')"
   ]
  },
  {
   "cell_type": "markdown",
   "metadata": {},
   "source": [
    "Não posso dizer que bati na trave, pois eram poucas vagas comparado com minha posição preliminar (quem sabe eu faça um outro projeto com o resultado definitivo), mas com certeza estou evoluindo a cada prova que realizo e melhorando a cada dia de estudo, isso se reflete na nota que pude alcançar e na certeza que tenho, cada vez mais, e no não \"chutar\" em provas. Se sei, sei que sei; e se não sei, aí sim tenho que chutar(se for CESPE, dependendo, não dá - entendedores entenderão! rsrs), e se erro pensando que acertei estudarei para errar cada vez menos.\n",
    "\n",
    "Parabéns a todos que realmente estudaram e concorreram nessa prova, e parabéns aos que conseguiram uma nota preliminar boa. Se você começou agora no mundo dos concursos e tirou uma nota muito baixa, posso dizer, não desanime, eu já estive aí e sei como é (e sei bem que cada um tem uma realidade distinta e muitas vezes \"massacrante\"); mas a cada resumo, a cada página lida, a cada \"canetada\" e prova, você está mais perto de ser \"uma das primeiras barras\" nos meus próximos gráficos que mostram desempenho...\n",
    "\n",
    "Sejam (continuem) excelentes!"
   ]
  },
  {
   "cell_type": "markdown",
   "metadata": {},
   "source": [
    "# Considerações finais\n",
    "\n",
    "Enquanto escrevia esse trabalho pensei no quão privilegiado sou por existir nessa época com tantas tecnologias otimizadoras. Eu pude realizar essas análises simples em torno de 5 horas de trabalho, considerando o total de horas em dois dias em que trabalhei, mas devo reconhecer o poder de ferramentas como o chatGPT bem como a contribuição que a comunidade da análise de dados disponibiliza ao publicar vídeos gratuitos, melhorar documentações, ensinar... Um analista mais experiente poderá me dizer que isso é algo horrível, e eu não saberia dizer de fato o que é, ainda, horrível. Tenho buscado, lido sobre o assunto, perguntado, realizado cursos e estudo a cada dia um pouco para me aprimorar, portanto sou grato aos que podem contribuir com construções positivas. \n",
    "\n",
    "O trabalho cumpre seu propósito em demonstrar alguns aspectos sobre notas, matérias, candidatos da prova e com certeza me abriu a mente para muito mais do que poderia ser realizado.\n",
    "\n",
    "A análise realizada não apenas me proporcionou uma visão mais profunda sobre os resultados do concurso, mas também reforçou meu compromisso com o aprendizado contínuo. Ademais posso dizer que todos deveríamos ter um pouco de poder para analisar dados a fim de termos informações mais acertadas, pois é fascinante quando podemos descobrir algo simples que pensávamos ser de um jeito, mas que se revela de uma maneira diametralmente oposta quando fazemos uma abordagem honesta e \"educada\" utilizando dados.\n",
    "\n",
    "Agradeço novamente à comunidade online, aos cursos valiosos e ao ChatGPT (OpenAI) por sua contribuição nesse percurso. À medida que avanço, estou ansioso para aplicar essas habilidades em desafios mais complexos e continuar explorando o vasto mundo da análise de dados. Que essa pequena caminhada trilhada aqui inspire outros a descobrir o poder da análise e a transformar dados em informações significativas que ensejem e inspirem a reflexão e a mudança que desejamos no mundo."
   ]
  }
 ],
 "metadata": {
  "kernelspec": {
   "display_name": "Python 3 (ipykernel)",
   "language": "python",
   "name": "python3"
  },
  "language_info": {
   "codemirror_mode": {
    "name": "ipython",
    "version": 3
   },
   "file_extension": ".py",
   "mimetype": "text/x-python",
   "name": "python",
   "nbconvert_exporter": "python",
   "pygments_lexer": "ipython3",
   "version": "3.11.6"
  }
 },
 "nbformat": 4,
 "nbformat_minor": 2
}
